{
 "cells": [
  {
   "cell_type": "markdown",
   "id": "a89b5b8b-d99c-43a9-9c29-83d0f6ae1cb3",
   "metadata": {},
   "source": [
    "# Prepare VCFs on O2 cluster\n",
    "Prepare imputed 1000G VCFs for target IIDs on Harvard cluster"
   ]
  },
  {
   "cell_type": "code",
   "execution_count": 2,
   "id": "108e43b4-cb7f-4404-8986-ed7f3ebb3196",
   "metadata": {
    "tags": []
   },
   "outputs": [
    {
     "name": "stdout",
     "output_type": "stream",
     "text": [
      "compute-a-16-160.o2.rc.hms.harvard.edu\n",
      "HSM Computational partition detected.\n",
      "/n/groups/reich/hringbauer/git/gedmatch_prep\n",
      "CPU Count: 32\n",
      "3.7.4 (default, Sep 11 2019, 11:24:51) \n",
      "[GCC 6.2.0]\n"
     ]
    }
   ],
   "source": [
    "import numpy as np\n",
    "import os  # For Saving to Folder\n",
    "import pandas as pd\n",
    "import matplotlib.pyplot as plt\n",
    "import socket\n",
    "import os as os\n",
    "import sys as sys\n",
    "import multiprocessing as mp\n",
    "\n",
    "### For Arial Font\n",
    "from matplotlib import rcParams\n",
    "rcParams['font.family'] = 'sans-serif'   # Set the defaul\n",
    "### Make sure to have the font installed (it is on cluster for Harald)\n",
    "rcParams['font.sans-serif'] = ['Arial']\n",
    "\n",
    "socket_name = socket.gethostname()\n",
    "print(socket_name)\n",
    "\n",
    "if socket_name.startswith(\"compute-\"):\n",
    "    print(\"HSM Computational partition detected.\")\n",
    "    path = \"/n/groups/reich/hringbauer/git/gedmatch_prep/\"  # The Path on Midway Cluster\n",
    "else:\n",
    "    raise RuntimeWarning(\"Not compatible machine. Check!!\")\n",
    "\n",
    "os.chdir(path)  # Set the right Path (in line with Atom default)\n",
    "# Show the current working directory. Should be HAPSBURG/Notebooks/ParallelRuns\n",
    "print(os.getcwd())\n",
    "print(f\"CPU Count: {mp.cpu_count()}\")\n",
    "print(sys.version)"
   ]
  },
  {
   "cell_type": "code",
   "execution_count": null,
   "id": "ea933086-266d-450e-b075-97a73697f4a3",
   "metadata": {},
   "outputs": [],
   "source": [
    "I14740\n",
    "I14847\n",
    "I13867\n",
    "I13862\n",
    "I14738"
   ]
  },
  {
   "cell_type": "code",
   "execution_count": null,
   "id": "10df8c47-0908-46ca-a219-ea1ab5b6345c",
   "metadata": {
    "tags": []
   },
   "outputs": [],
   "source": [
    "ch = 1\n",
    "iid = \"I14740\"\n",
    "path_mastervcf = f\"/n/data1/hms/genetics/reich/1000Genomes/ali/WholeGenomeImputation/imputed_r2/v54.1/chr{ch}.bcf\"\n",
    "out_vcf = f\"/n/groups/reich/hringbauer/git/gedmatch_prep/output/vcf1000G_o2/{iid}.chr{ch}.bcf\"\n",
    "\n",
    "!bcftools view -s $iid $path_mastervcf > $out_vcf"
   ]
  },
  {
   "cell_type": "code",
   "execution_count": 15,
   "id": "4059cba0-7265-4c1d-bca8-94012d35fbd8",
   "metadata": {},
   "outputs": [],
   "source": [
    "def create_vcf(iid=\"\", out_folder=\"/n/groups/reich/hringbauer/git/gedmatch_prep/output/vcf1000G_o2/\"):\n",
    "    \"\"\"Create VCF for a single IID.\n",
    "    Hard_coded Master VCF of Ali.\n",
    "    Hard\"\"\"\n",
    "    for ch in range(2,23):\n",
    "        print(f\"Running Chromosome: {ch}...\")\n",
    "        path_mastervcf = f\"/n/data1/hms/genetics/reich/1000Genomes/ali/WholeGenomeImputation/imputed_r2/v54.1/chr{ch}.bcf\"\n",
    "        out_vcf = os.path.join(out_folder, f\"{iid}.chr{ch}.bcf\")\n",
    "        !bcftools view -s $iid $path_mastervcf > $out_vcf\n",
    "        !bcftools index out_vcf\n",
    "        \n",
    "    print(f\"Combining Chromosomes\")\n",
    "    vcfs_in= [os.path.join(out_folder, f\"{iid}.chr{ch}.bcf\") for ch in range(1,23)]\n",
    "    vcfs_in = \" \".join(vcfs_in)\n",
    "    out_vcf = os.path.join(out_folder, f\"{iid}.bcf\")\n",
    "    !bcftools concat -o out_vcf $vcfs_in"
   ]
  },
  {
   "cell_type": "code",
   "execution_count": null,
   "id": "e02eeff1-a7f8-400b-a636-2226b9054eeb",
   "metadata": {
    "tags": []
   },
   "outputs": [
    {
     "name": "stdout",
     "output_type": "stream",
     "text": [
      "Running Chromosome: 2...\n"
     ]
    }
   ],
   "source": [
    "create_vcf(iid=\"I14740\")"
   ]
  },
  {
   "cell_type": "markdown",
   "id": "052f7618-b4ce-4725-aeb1-70aeb667f5d9",
   "metadata": {},
   "source": [
    "### Area 51"
   ]
  },
  {
   "cell_type": "code",
   "execution_count": 14,
   "id": "b9bd9e9c-b8de-4fde-bc99-13bc23318af9",
   "metadata": {
    "tags": []
   },
   "outputs": [
    {
     "data": {
      "text/plain": [
       "'/n/groups/reich/hringbauer/git/gedmatch_prep/output/vcf1000G_o2/I14740.chr1.bcf /n/groups/reich/hringbauer/git/gedmatch_prep/output/vcf1000G_o2/I14740.chr2.bcf /n/groups/reich/hringbauer/git/gedmatch_prep/output/vcf1000G_o2/I14740.chr3.bcf /n/groups/reich/hringbauer/git/gedmatch_prep/output/vcf1000G_o2/I14740.chr4.bcf /n/groups/reich/hringbauer/git/gedmatch_prep/output/vcf1000G_o2/I14740.chr5.bcf /n/groups/reich/hringbauer/git/gedmatch_prep/output/vcf1000G_o2/I14740.chr6.bcf /n/groups/reich/hringbauer/git/gedmatch_prep/output/vcf1000G_o2/I14740.chr7.bcf /n/groups/reich/hringbauer/git/gedmatch_prep/output/vcf1000G_o2/I14740.chr8.bcf /n/groups/reich/hringbauer/git/gedmatch_prep/output/vcf1000G_o2/I14740.chr9.bcf /n/groups/reich/hringbauer/git/gedmatch_prep/output/vcf1000G_o2/I14740.chr10.bcf /n/groups/reich/hringbauer/git/gedmatch_prep/output/vcf1000G_o2/I14740.chr11.bcf /n/groups/reich/hringbauer/git/gedmatch_prep/output/vcf1000G_o2/I14740.chr12.bcf /n/groups/reich/hringbauer/git/gedmatch_prep/output/vcf1000G_o2/I14740.chr13.bcf /n/groups/reich/hringbauer/git/gedmatch_prep/output/vcf1000G_o2/I14740.chr14.bcf /n/groups/reich/hringbauer/git/gedmatch_prep/output/vcf1000G_o2/I14740.chr15.bcf /n/groups/reich/hringbauer/git/gedmatch_prep/output/vcf1000G_o2/I14740.chr16.bcf /n/groups/reich/hringbauer/git/gedmatch_prep/output/vcf1000G_o2/I14740.chr17.bcf /n/groups/reich/hringbauer/git/gedmatch_prep/output/vcf1000G_o2/I14740.chr18.bcf /n/groups/reich/hringbauer/git/gedmatch_prep/output/vcf1000G_o2/I14740.chr19.bcf /n/groups/reich/hringbauer/git/gedmatch_prep/output/vcf1000G_o2/I14740.chr20.bcf /n/groups/reich/hringbauer/git/gedmatch_prep/output/vcf1000G_o2/I14740.chr21.bcf /n/groups/reich/hringbauer/git/gedmatch_prep/output/vcf1000G_o2/I14740.chr22.bcf'"
      ]
     },
     "execution_count": 14,
     "metadata": {},
     "output_type": "execute_result"
    }
   ],
   "source": [
    "out_folder=\"/n/groups/reich/hringbauer/git/gedmatch_prep/output/vcf1000G_o2/\"\n",
    "vcfs_in= [os.path.join(out_folder, f\"{iid}.chr{ch}.bcf\") for ch in range(1,23)]\n",
    "vcfs_in = \" \".join(vcfs_in)\n",
    "vcfs_in"
   ]
  },
  {
   "cell_type": "markdown",
   "id": "9ed2450f-6ac1-426d-8ce9-d81aacd7d937",
   "metadata": {},
   "source": [
    "### Area 51"
   ]
  },
  {
   "cell_type": "code",
   "execution_count": 12,
   "id": "36ce8b0c-28da-4b35-ba7c-6bce8aae9a78",
   "metadata": {
    "tags": []
   },
   "outputs": [
    {
     "name": "stdout",
     "output_type": "stream",
     "text": [
      "test\n"
     ]
    }
   ],
   "source": [
    "print(\"test\")"
   ]
  },
  {
   "cell_type": "code",
   "execution_count": null,
   "id": "d11e92ce-fb1c-4a66-a418-2fce7abbff92",
   "metadata": {},
   "outputs": [],
   "source": [
    "out_vcf = os.path.join(out_folder, f\"{iid}.chr{ch}.bcf\")\n",
    "!bcftools concat -o total_chroms.vcf chr1.vcf chr2.vcf chr3.vcf ... chrX.vcf"
   ]
  }
 ],
 "metadata": {
  "kernelspec": {
   "display_name": "Python 3",
   "language": "python",
   "name": "python3"
  },
  "language_info": {
   "codemirror_mode": {
    "name": "ipython",
    "version": 3
   },
   "file_extension": ".py",
   "mimetype": "text/x-python",
   "name": "python",
   "nbconvert_exporter": "python",
   "pygments_lexer": "ipython3",
   "version": "3.7.4"
  }
 },
 "nbformat": 4,
 "nbformat_minor": 5
}
