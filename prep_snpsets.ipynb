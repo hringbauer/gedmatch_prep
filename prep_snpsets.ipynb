{
 "cells": [
  {
   "cell_type": "markdown",
   "metadata": {},
   "source": [
    "# Prepare SNP sets for GEDmatch"
   ]
  },
  {
   "cell_type": "code",
   "execution_count": 1,
   "metadata": {},
   "outputs": [
    {
     "name": "stdout",
     "output_type": "stream",
     "text": [
      "bionc21\n",
      "Leipzig Cluster detected!\n",
      "/mnt/archgen/users/hringbauer/brienzi\n",
      "CPU Count: 40\n"
     ]
    }
   ],
   "source": [
    "import numpy as np\n",
    "import pandas as pd\n",
    "import matplotlib.pyplot as plt\n",
    "import socket as socket\n",
    "import os as os\n",
    "import sys as sys\n",
    "import h5py\n",
    "import matplotlib.cm as cm\n",
    "import itertools as it\n",
    "import multiprocessing as mp\n",
    "\n",
    "socket_name = socket.gethostname()\n",
    "print(socket_name)\n",
    "\n",
    "    \n",
    "if socket_name.startswith(\"bionc\"):\n",
    "    print(\"Leipzig Cluster detected!\")\n",
    "    path = \"/mnt/archgen/users/hringbauer/brienzi/\"\n",
    "    #sys.path.append(\"/mnt/archgen/users/hringbauer/data/malta/\") \n",
    "    \n",
    "else: \n",
    "    raise RuntimeWarning(\"Not compatible machine. Check!!\")\n",
    "    \n",
    "os.chdir(path)  # Set the right Path (in line with Atom default)\n",
    "print(os.getcwd())\n",
    "print(f\"CPU Count: {mp.cpu_count()}\")"
   ]
  },
  {
   "cell_type": "code",
   "execution_count": 56,
   "metadata": {},
   "outputs": [],
   "source": [
    "def extract_23andme_snps(path_23, savepath=\"\"):\n",
    "    \"\"\"Extract 23andme SNPs and save .tsv.\n",
    "    path_23: 23andme .txt file\n",
    "    savepath: Path to save output .tsv to\"\"\"\n",
    "    df = pd.read_csv(path_23, comment='#', sep=\"\\t\", header=None, low_memory=False)\n",
    "    df.columns = [\"rsid\",\"chr\",\"pos\", \"gt\"]\n",
    "    if len(savepath)>0:\n",
    "        df.to_csv(savepath, sep=\"\\t\", index=False)\n",
    "        print(f\"Saved {len(df)} SNPs to: {savepath}\")\n",
    "    return df\n",
    "\n",
    "def create_23andme_snpfile(path_23, save_folder=\"\", chs=range(1,23)):\n",
    "    \"\"\"Create bcftools_ch files for 23andme SNPs extracted\n",
    "    from 23andme file.\n",
    "    path_23: 23andme file\n",
    "    save_folder: Where to save output to\"\"\"\n",
    "    dft = extract_23andme_snps(path_23 = path_23, savepath =\"\")\n",
    "    create_23andme_snpfile_fromdf(dft, save_folder=save_folder, chs=chs)\n",
    "\n",
    "        \n",
    "def create_23andme_snpfile_fromdf(df, save_folder=\"\", chs=range(1,23)):\n",
    "    \"\"\"Create 23andme SNP file at save_folder from SNP dataframe df.\"\"\"\n",
    "    for ch in chs:\n",
    "        df_ch = df[df[\"chr\"]==str(ch)]\n",
    "        df_save = df_ch[[\"chr\",\"pos\"]].astype(\"int32\")\n",
    "\n",
    "        savepath = os.path.join(save_folder, f\"bcftools_ch{ch}.csv\")\n",
    "        df_save.to_csv(savepath, sep=\"\\t\", header=None, index=False)\n",
    "        print(f\"Saved {len(df_save)} SNPs to: {savepath}\")\n",
    "        \n",
    "def overlap_with1240k(df, ch=1):\n",
    "    \"\"\"Calculate and print overlap 1240k and target SNPs in df,\n",
    "    on chromosome ch\"\"\"\n",
    "    marker_path = f\"/mnt/archgen/users/hringbauer/data/1240kSNPs/bcftools_ch{ch}.csv\"\n",
    "    dft = pd.read_csv(marker_path, sep=\"\\t\", header=None)\n",
    "    dft.columns = [\"chr\", \"pos\"]\n",
    "    df_ch = df[df[\"chr\"]==str(ch)]\n",
    "    dfm = pd.merge(df_ch, dft, on=[\"pos\"])\n",
    "    print(f\"Merged to {len(dfm)}/ {len(df_ch)} (23andme) & {len(dft)} (1240k) SNPs\")\n",
    "    \n",
    "def create_23andme_snpfile_v45(path_v4, path_v5, save_folder=\"\", \n",
    "                               snp_file_out=\"\", chs=range(1,23)):\n",
    "    \"\"\"Create bcftools_ch files for 23andme SNPs extracted\n",
    "    from 23andme file.\n",
    "    path_23: 23andme file\n",
    "    save_folder: Where to save output to\"\"\"\n",
    "    df4 = extract_23andme_snps(path_23 = path_v4)\n",
    "    df5 = extract_23andme_snps(path_23 = path_v5)\n",
    "    \n",
    "    ### Combine SNPs\n",
    "    df45 = pd.concat((df4,df5)) # Concatenate\n",
    "    df45u = df45.drop_duplicates(subset=\"rsid\")\n",
    "    print(f\"Combined to unique {len(df45u)} / {len(df45)} total SNPs\") # Drop Duplicates\n",
    "    df45u = df45u.sort_values(by=[\"chr\", \"pos\"])\n",
    "    \n",
    "    if len(snp_file_out)>0:\n",
    "        df45u.to_csv(snp_file_out, sep=\"\\t\", index=False)\n",
    "        print(f\"Saved {len(df45u)} SNPs to: {snp_file_out}\")   \n",
    "    create_23andme_snpfile_fromdf(df45u, save_folder=save_folder, chs=chs)"
   ]
  },
  {
   "cell_type": "markdown",
   "metadata": {},
   "source": [
    "### 1) Load 23andme data (v4 Chip: Omni Express)"
   ]
  },
  {
   "cell_type": "code",
   "execution_count": 3,
   "metadata": {},
   "outputs": [
    {
     "name": "stdout",
     "output_type": "stream",
     "text": [
      "Saved 601895 SNPs to: /mnt/archgen/users/hringbauer/git/gedmatch_prep/data/23andme/snps.tsv\n"
     ]
    }
   ],
   "source": [
    "df = extract_23andme_snps(path_23 = \"/mnt/archgen/users/hringbauer/git/gedmatch_prep/data/genome_Harald_Ringbauer_v4_Full_20181111230705.txt\",\n",
    "                     savepath =\"/mnt/archgen/users/hringbauer/git/gedmatch_prep/data/23andme/snps.tsv\")"
   ]
  },
  {
   "cell_type": "code",
   "execution_count": null,
   "metadata": {},
   "outputs": [],
   "source": [
    "df[df[\"chr\"]==\"1\"]"
   ]
  },
  {
   "cell_type": "markdown",
   "metadata": {},
   "source": [
    "### 1b) Load 23andme data (v5 Chip: GSA)"
   ]
  },
  {
   "cell_type": "code",
   "execution_count": 4,
   "metadata": {},
   "outputs": [
    {
     "name": "stdout",
     "output_type": "stream",
     "text": [
      "Saved 632015 SNPs to: /mnt/archgen/users/hringbauer/git/gedmatch_prep/data/23andme/snps.v5.tsv\n"
     ]
    }
   ],
   "source": [
    "df5 = extract_23andme_snps(path_23 = \"/mnt/archgen/users/hringbauer/git/gedmatch_prep/data/genome_Christopher_Smith_v5_Full_20230926164611.txt\",\n",
    "                           savepath =\"/mnt/archgen/users/hringbauer/git/gedmatch_prep/data/23andme/snps.v5.tsv\")"
   ]
  },
  {
   "cell_type": "code",
   "execution_count": 28,
   "metadata": {},
   "outputs": [],
   "source": [
    "dfm = pd.merge(df, df5, on=\"rsid\")"
   ]
  },
  {
   "cell_type": "code",
   "execution_count": 42,
   "metadata": {},
   "outputs": [
    {
     "name": "stdout",
     "output_type": "stream",
     "text": [
      "v4 and v5 SNP overlap: 116152 / 601895 (v4) & 632015 (v5)\n"
     ]
    }
   ],
   "source": [
    "print(f\"v4 and v5 SNP overlap: {len(dfm)} / {len(df)} (v4) & {len(df5)} (v5)\")"
   ]
  },
  {
   "cell_type": "markdown",
   "metadata": {},
   "source": [
    "# 2) [Optional] Check 23andme SNPs against 1240k\n",
    "Specifically, for intersection with 1240k files\n",
    "(to check whether indexing is same)"
   ]
  },
  {
   "cell_type": "markdown",
   "metadata": {},
   "source": [
    "### v4 and 1240k Overlap"
   ]
  },
  {
   "cell_type": "code",
   "execution_count": 24,
   "metadata": {},
   "outputs": [
    {
     "name": "stdout",
     "output_type": "stream",
     "text": [
      "Merged to 34517/ 46662 (23andme) & 93166 (1240k) SNPs\n"
     ]
    }
   ],
   "source": [
    "overlap_with1240k(df, ch=1)"
   ]
  },
  {
   "cell_type": "markdown",
   "metadata": {},
   "source": [
    "### v5 and 1240k Overlap"
   ]
  },
  {
   "cell_type": "code",
   "execution_count": 25,
   "metadata": {},
   "outputs": [
    {
     "name": "stdout",
     "output_type": "stream",
     "text": [
      "Merged to 10795/ 48932 (23andme) & 93166 (1240k) SNPs\n"
     ]
    }
   ],
   "source": [
    "overlap_with1240k(df5, ch=1)"
   ]
  },
  {
   "cell_type": "markdown",
   "metadata": {},
   "source": [
    "# 3) Create 23andme SNP files in bed format"
   ]
  },
  {
   "cell_type": "code",
   "execution_count": 78,
   "metadata": {},
   "outputs": [
    {
     "name": "stdout",
     "output_type": "stream",
     "text": [
      "Saved 46662 SNPs to: /mnt/archgen/users/hringbauer/git/gedmatch_prep/data/23andme/bcftools_ch1.csv\n",
      "Saved 46128 SNPs to: /mnt/archgen/users/hringbauer/git/gedmatch_prep/data/23andme/bcftools_ch2.csv\n",
      "Saved 38517 SNPs to: /mnt/archgen/users/hringbauer/git/gedmatch_prep/data/23andme/bcftools_ch3.csv\n",
      "Saved 33915 SNPs to: /mnt/archgen/users/hringbauer/git/gedmatch_prep/data/23andme/bcftools_ch4.csv\n",
      "Saved 34387 SNPs to: /mnt/archgen/users/hringbauer/git/gedmatch_prep/data/23andme/bcftools_ch5.csv\n",
      "Saved 40384 SNPs to: /mnt/archgen/users/hringbauer/git/gedmatch_prep/data/23andme/bcftools_ch6.csv\n",
      "Saved 33053 SNPs to: /mnt/archgen/users/hringbauer/git/gedmatch_prep/data/23andme/bcftools_ch7.csv\n",
      "Saved 30268 SNPs to: /mnt/archgen/users/hringbauer/git/gedmatch_prep/data/23andme/bcftools_ch8.csv\n",
      "Saved 26586 SNPs to: /mnt/archgen/users/hringbauer/git/gedmatch_prep/data/23andme/bcftools_ch9.csv\n",
      "Saved 29210 SNPs to: /mnt/archgen/users/hringbauer/git/gedmatch_prep/data/23andme/bcftools_ch10.csv\n",
      "Saved 29328 SNPs to: /mnt/archgen/users/hringbauer/git/gedmatch_prep/data/23andme/bcftools_ch11.csv\n",
      "Saved 28451 SNPs to: /mnt/archgen/users/hringbauer/git/gedmatch_prep/data/23andme/bcftools_ch12.csv\n",
      "Saved 21679 SNPs to: /mnt/archgen/users/hringbauer/git/gedmatch_prep/data/23andme/bcftools_ch13.csv\n",
      "Saved 18696 SNPs to: /mnt/archgen/users/hringbauer/git/gedmatch_prep/data/23andme/bcftools_ch14.csv\n",
      "Saved 18281 SNPs to: /mnt/archgen/users/hringbauer/git/gedmatch_prep/data/23andme/bcftools_ch15.csv\n",
      "Saved 19199 SNPs to: /mnt/archgen/users/hringbauer/git/gedmatch_prep/data/23andme/bcftools_ch16.csv\n",
      "Saved 18743 SNPs to: /mnt/archgen/users/hringbauer/git/gedmatch_prep/data/23andme/bcftools_ch17.csv\n",
      "Saved 16490 SNPs to: /mnt/archgen/users/hringbauer/git/gedmatch_prep/data/23andme/bcftools_ch18.csv\n",
      "Saved 13002 SNPs to: /mnt/archgen/users/hringbauer/git/gedmatch_prep/data/23andme/bcftools_ch19.csv\n",
      "Saved 14494 SNPs to: /mnt/archgen/users/hringbauer/git/gedmatch_prep/data/23andme/bcftools_ch20.csv\n",
      "Saved 8461 SNPs to: /mnt/archgen/users/hringbauer/git/gedmatch_prep/data/23andme/bcftools_ch21.csv\n",
      "Saved 9098 SNPs to: /mnt/archgen/users/hringbauer/git/gedmatch_prep/data/23andme/bcftools_ch22.csv\n",
      "CPU times: user 1.72 s, sys: 84.8 ms, total: 1.8 s\n",
      "Wall time: 2.14 s\n"
     ]
    }
   ],
   "source": [
    "%%time\n",
    "\n",
    "create_23andme_snpfile(path_23 = \"/mnt/archgen/users/hringbauer/git/gedmatch_prep/data/genome_Harald_Ringbauer_v4_Full_20181111230705.txt\",\n",
    "                       save_folder = \"/mnt/archgen/users/hringbauer/git/gedmatch_prep/data/23andme\")"
   ]
  },
  {
   "cell_type": "markdown",
   "metadata": {},
   "source": [
    "### 3b) Create 23andme SNP files in bed format from v4 and v5 combined \n",
    "Also creates the 23andme SNP .tsv"
   ]
  },
  {
   "cell_type": "code",
   "execution_count": 57,
   "metadata": {},
   "outputs": [
    {
     "name": "stdout",
     "output_type": "stream",
     "text": [
      "Combined to unique 1117758 / 1233910 total SNPs\n",
      "Saved 1117758 SNPs to: /mnt/archgen/users/hringbauer/git/gedmatch_prep/data/23andme/snps45.tsv\n",
      "Saved 86953 SNPs to: /mnt/archgen/users/hringbauer/git/gedmatch_prep/data/23andme45/bcftools_ch1.csv\n",
      "Saved 89030 SNPs to: /mnt/archgen/users/hringbauer/git/gedmatch_prep/data/23andme45/bcftools_ch2.csv\n",
      "Saved 73967 SNPs to: /mnt/archgen/users/hringbauer/git/gedmatch_prep/data/23andme45/bcftools_ch3.csv\n",
      "Saved 66528 SNPs to: /mnt/archgen/users/hringbauer/git/gedmatch_prep/data/23andme45/bcftools_ch4.csv\n",
      "Saved 64891 SNPs to: /mnt/archgen/users/hringbauer/git/gedmatch_prep/data/23andme45/bcftools_ch5.csv\n",
      "Saved 75225 SNPs to: /mnt/archgen/users/hringbauer/git/gedmatch_prep/data/23andme45/bcftools_ch6.csv\n",
      "Saved 60961 SNPs to: /mnt/archgen/users/hringbauer/git/gedmatch_prep/data/23andme45/bcftools_ch7.csv\n",
      "Saved 56104 SNPs to: /mnt/archgen/users/hringbauer/git/gedmatch_prep/data/23andme45/bcftools_ch8.csv\n",
      "Saved 47797 SNPs to: /mnt/archgen/users/hringbauer/git/gedmatch_prep/data/23andme45/bcftools_ch9.csv\n",
      "Saved 54122 SNPs to: /mnt/archgen/users/hringbauer/git/gedmatch_prep/data/23andme45/bcftools_ch10.csv\n",
      "Saved 54709 SNPs to: /mnt/archgen/users/hringbauer/git/gedmatch_prep/data/23andme45/bcftools_ch11.csv\n",
      "Saved 52264 SNPs to: /mnt/archgen/users/hringbauer/git/gedmatch_prep/data/23andme45/bcftools_ch12.csv\n",
      "Saved 39755 SNPs to: /mnt/archgen/users/hringbauer/git/gedmatch_prep/data/23andme45/bcftools_ch13.csv\n",
      "Saved 34851 SNPs to: /mnt/archgen/users/hringbauer/git/gedmatch_prep/data/23andme45/bcftools_ch14.csv\n",
      "Saved 33692 SNPs to: /mnt/archgen/users/hringbauer/git/gedmatch_prep/data/23andme45/bcftools_ch15.csv\n",
      "Saved 35729 SNPs to: /mnt/archgen/users/hringbauer/git/gedmatch_prep/data/23andme45/bcftools_ch16.csv\n",
      "Saved 34472 SNPs to: /mnt/archgen/users/hringbauer/git/gedmatch_prep/data/23andme45/bcftools_ch17.csv\n",
      "Saved 30936 SNPs to: /mnt/archgen/users/hringbauer/git/gedmatch_prep/data/23andme45/bcftools_ch18.csv\n",
      "Saved 24635 SNPs to: /mnt/archgen/users/hringbauer/git/gedmatch_prep/data/23andme45/bcftools_ch19.csv\n",
      "Saved 26351 SNPs to: /mnt/archgen/users/hringbauer/git/gedmatch_prep/data/23andme45/bcftools_ch20.csv\n",
      "Saved 15309 SNPs to: /mnt/archgen/users/hringbauer/git/gedmatch_prep/data/23andme45/bcftools_ch21.csv\n",
      "Saved 16237 SNPs to: /mnt/archgen/users/hringbauer/git/gedmatch_prep/data/23andme45/bcftools_ch22.csv\n",
      "CPU times: user 6.46 s, sys: 306 ms, total: 6.77 s\n",
      "Wall time: 7.35 s\n"
     ]
    }
   ],
   "source": [
    "%%time\n",
    "create_23andme_snpfile_v45(path_v4 = \"/mnt/archgen/users/hringbauer/git/gedmatch_prep/data/genome_Harald_Ringbauer_v4_Full_20181111230705.txt\",\n",
    "                           path_v5 = \"/mnt/archgen/users/hringbauer/git/gedmatch_prep/data/genome_Christopher_Smith_v5_Full_20230926164611.txt\",\n",
    "                           snp_file_out = \"/mnt/archgen/users/hringbauer/git/gedmatch_prep/data/23andme/snps45.tsv\",\n",
    "                           save_folder=\"/mnt/archgen/users/hringbauer/git/gedmatch_prep/data/23andme45\", chs=range(1,23))"
   ]
  },
  {
   "cell_type": "markdown",
   "metadata": {},
   "source": [
    "# Area 51"
   ]
  },
  {
   "cell_type": "markdown",
   "metadata": {},
   "source": [
    "## Explore 23andme File"
   ]
  },
  {
   "cell_type": "code",
   "execution_count": 90,
   "metadata": {},
   "outputs": [
    {
     "data": {
      "text/html": [
       "<div>\n",
       "<style scoped>\n",
       "    .dataframe tbody tr th:only-of-type {\n",
       "        vertical-align: middle;\n",
       "    }\n",
       "\n",
       "    .dataframe tbody tr th {\n",
       "        vertical-align: top;\n",
       "    }\n",
       "\n",
       "    .dataframe thead th {\n",
       "        text-align: right;\n",
       "    }\n",
       "</style>\n",
       "<table border=\"1\" class=\"dataframe\">\n",
       "  <thead>\n",
       "    <tr style=\"text-align: right;\">\n",
       "      <th></th>\n",
       "      <th>rsid</th>\n",
       "      <th>chr</th>\n",
       "      <th>pos</th>\n",
       "      <th>gt</th>\n",
       "    </tr>\n",
       "  </thead>\n",
       "  <tbody>\n",
       "    <tr>\n",
       "      <th>595760</th>\n",
       "      <td>rs13304168</td>\n",
       "      <td>Y</td>\n",
       "      <td>14641193</td>\n",
       "      <td>C</td>\n",
       "    </tr>\n",
       "  </tbody>\n",
       "</table>\n",
       "</div>"
      ],
      "text/plain": [
       "              rsid chr       pos gt\n",
       "595760  rs13304168   Y  14641193  C"
      ]
     },
     "execution_count": 90,
     "metadata": {},
     "output_type": "execute_result"
    }
   ],
   "source": [
    "df45u[df45u[\"rsid\"]==\"rs13304168\"] #rs1236440 (U152) rs11799226 (L21) rs13304168 (L52) rs9785659 (ng) rs9786283 (ng) rs9786140 (L51)"
   ]
  },
  {
   "cell_type": "code",
   "execution_count": 64,
   "metadata": {},
   "outputs": [
    {
     "data": {
      "text/html": [
       "<div>\n",
       "<style scoped>\n",
       "    .dataframe tbody tr th:only-of-type {\n",
       "        vertical-align: middle;\n",
       "    }\n",
       "\n",
       "    .dataframe tbody tr th {\n",
       "        vertical-align: top;\n",
       "    }\n",
       "\n",
       "    .dataframe thead th {\n",
       "        text-align: right;\n",
       "    }\n",
       "</style>\n",
       "<table border=\"1\" class=\"dataframe\">\n",
       "  <thead>\n",
       "    <tr style=\"text-align: right;\">\n",
       "      <th></th>\n",
       "      <th>rsid</th>\n",
       "      <th>chr</th>\n",
       "      <th>pos</th>\n",
       "      <th>gt</th>\n",
       "    </tr>\n",
       "  </thead>\n",
       "  <tbody>\n",
       "    <tr>\n",
       "      <th>0</th>\n",
       "      <td>rs548049170</td>\n",
       "      <td>1</td>\n",
       "      <td>69869</td>\n",
       "      <td>TT</td>\n",
       "    </tr>\n",
       "    <tr>\n",
       "      <th>1</th>\n",
       "      <td>rs9283150</td>\n",
       "      <td>1</td>\n",
       "      <td>565508</td>\n",
       "      <td>AA</td>\n",
       "    </tr>\n",
       "    <tr>\n",
       "      <th>2</th>\n",
       "      <td>rs116587930</td>\n",
       "      <td>1</td>\n",
       "      <td>727841</td>\n",
       "      <td>AG</td>\n",
       "    </tr>\n",
       "    <tr>\n",
       "      <th>0</th>\n",
       "      <td>rs12564807</td>\n",
       "      <td>1</td>\n",
       "      <td>734462</td>\n",
       "      <td>AA</td>\n",
       "    </tr>\n",
       "    <tr>\n",
       "      <th>1</th>\n",
       "      <td>rs3131972</td>\n",
       "      <td>1</td>\n",
       "      <td>752721</td>\n",
       "      <td>AG</td>\n",
       "    </tr>\n",
       "    <tr>\n",
       "      <th>...</th>\n",
       "      <td>...</td>\n",
       "      <td>...</td>\n",
       "      <td>...</td>\n",
       "      <td>...</td>\n",
       "    </tr>\n",
       "    <tr>\n",
       "      <th>596807</th>\n",
       "      <td>rs6568298</td>\n",
       "      <td>Y</td>\n",
       "      <td>59029728</td>\n",
       "      <td>T</td>\n",
       "    </tr>\n",
       "    <tr>\n",
       "      <th>596808</th>\n",
       "      <td>rs4047343</td>\n",
       "      <td>Y</td>\n",
       "      <td>59030922</td>\n",
       "      <td>G</td>\n",
       "    </tr>\n",
       "    <tr>\n",
       "      <th>596809</th>\n",
       "      <td>rs6568294</td>\n",
       "      <td>Y</td>\n",
       "      <td>59031514</td>\n",
       "      <td>--</td>\n",
       "    </tr>\n",
       "    <tr>\n",
       "      <th>596810</th>\n",
       "      <td>rs2334083</td>\n",
       "      <td>Y</td>\n",
       "      <td>59032331</td>\n",
       "      <td>C</td>\n",
       "    </tr>\n",
       "    <tr>\n",
       "      <th>596811</th>\n",
       "      <td>rs9724556</td>\n",
       "      <td>Y</td>\n",
       "      <td>59032809</td>\n",
       "      <td>C</td>\n",
       "    </tr>\n",
       "  </tbody>\n",
       "</table>\n",
       "<p>1117758 rows × 4 columns</p>\n",
       "</div>"
      ],
      "text/plain": [
       "               rsid chr       pos  gt\n",
       "0       rs548049170   1     69869  TT\n",
       "1         rs9283150   1    565508  AA\n",
       "2       rs116587930   1    727841  AG\n",
       "0        rs12564807   1    734462  AA\n",
       "1         rs3131972   1    752721  AG\n",
       "...             ...  ..       ...  ..\n",
       "596807    rs6568298   Y  59029728   T\n",
       "596808    rs4047343   Y  59030922   G\n",
       "596809    rs6568294   Y  59031514  --\n",
       "596810    rs2334083   Y  59032331   C\n",
       "596811    rs9724556   Y  59032809   C\n",
       "\n",
       "[1117758 rows x 4 columns]"
      ]
     },
     "execution_count": 64,
     "metadata": {},
     "output_type": "execute_result"
    }
   ],
   "source": [
    "df45u"
   ]
  },
  {
   "cell_type": "code",
   "execution_count": null,
   "metadata": {},
   "outputs": [],
   "source": []
  }
 ],
 "metadata": {
  "kernelspec": {
   "display_name": "Python 3",
   "language": "python",
   "name": "python3"
  },
  "language_info": {
   "codemirror_mode": {
    "name": "ipython",
    "version": 3
   },
   "file_extension": ".py",
   "mimetype": "text/x-python",
   "name": "python",
   "nbconvert_exporter": "python",
   "pygments_lexer": "ipython3",
   "version": "3.8.10"
  }
 },
 "nbformat": 4,
 "nbformat_minor": 2
}
