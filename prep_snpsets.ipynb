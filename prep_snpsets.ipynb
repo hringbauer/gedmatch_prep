{
 "cells": [
  {
   "cell_type": "markdown",
   "metadata": {},
   "source": [
    "# Prepare SNP sets for GEDmatch"
   ]
  },
  {
   "cell_type": "code",
   "execution_count": 1,
   "metadata": {},
   "outputs": [
    {
     "name": "stdout",
     "output_type": "stream",
     "text": [
      "bionc21\n",
      "Leipzig Cluster detected!\n",
      "/mnt/archgen/users/hringbauer/brienzi\n",
      "CPU Count: 40\n"
     ]
    }
   ],
   "source": [
    "import numpy as np\n",
    "import pandas as pd\n",
    "import matplotlib.pyplot as plt\n",
    "import socket as socket\n",
    "import os as os\n",
    "import sys as sys\n",
    "import h5py\n",
    "import matplotlib.cm as cm\n",
    "import itertools as it\n",
    "import multiprocessing as mp\n",
    "\n",
    "socket_name = socket.gethostname()\n",
    "print(socket_name)\n",
    "\n",
    "    \n",
    "if socket_name.startswith(\"bionc\"):\n",
    "    print(\"Leipzig Cluster detected!\")\n",
    "    path = \"/mnt/archgen/users/hringbauer/brienzi/\"\n",
    "    #sys.path.append(\"/mnt/archgen/users/hringbauer/data/malta/\") \n",
    "    \n",
    "else: \n",
    "    raise RuntimeWarning(\"Not compatible machine. Check!!\")\n",
    "    \n",
    "os.chdir(path)  # Set the right Path (in line with Atom default)\n",
    "print(os.getcwd())\n",
    "print(f\"CPU Count: {mp.cpu_count()}\")"
   ]
  },
  {
   "cell_type": "code",
   "execution_count": 74,
   "metadata": {},
   "outputs": [],
   "source": [
    "def extract_23andme_snps(path_23, savepath=\"\"):\n",
    "    \"\"\"Extract 23andme SNPs and save .tsv.\n",
    "    path_23: 23andme .txt file\n",
    "    savepath: Path to save output .tsv to\"\"\"\n",
    "    df = pd.read_csv(path_23, comment='#', sep=\"\\t\", header=None, low_memory=False)\n",
    "    df.columns = [\"rsid\",\"chr\",\"pos\", \"gt\"]\n",
    "    if len(savepath)>0:\n",
    "        df.to_csv(savepath, sep=\"\\t\", index=False)\n",
    "        print(f\"Saved {len(df)} SNPs to: {savepath}\")\n",
    "    return df\n",
    "\n",
    "def create_23andme_snpfile(path_23, save_folder=\"\", chs=range(1,23)):\n",
    "    \"\"\"Create bcftools_ch files for 23andme SNPs extracted\n",
    "    from 23andme file.\n",
    "    path_23: 23andme file\n",
    "    save_folder: Where to save output to\"\"\"\n",
    "    dft = extract_23andme_snps(path_23 = path_23, savepath =\"\")\n",
    "\n",
    "    for ch in chs:\n",
    "        df_ch = dft[dft[\"chr\"]==str(ch)]\n",
    "        df_save = df_ch[[\"chr\",\"pos\"]].astype(\"int32\")\n",
    "\n",
    "        savepath = os.path.join(save_folder, f\"bcftools_ch{ch}.csv\")\n",
    "        df_save.to_csv(savepath, sep=\"\\t\", header=None, index=False)\n",
    "        print(f\"Saved {len(df_save)} SNPs to: {savepath}\")"
   ]
  },
  {
   "cell_type": "markdown",
   "metadata": {},
   "source": [
    "### 1) Load 23andme data"
   ]
  },
  {
   "cell_type": "code",
   "execution_count": 18,
   "metadata": {},
   "outputs": [
    {
     "name": "stdout",
     "output_type": "stream",
     "text": [
      "Saved 601895 SNPs to: /mnt/archgen/users/hringbauer/git/gedmatch_prep/data/23andme/snps.tsv\n"
     ]
    }
   ],
   "source": [
    "extract_23andme_snps(path_23 = \"/mnt/archgen/users/hringbauer/git/gedmatch_prep/data/genome_Harald_Ringbauer_v4_Full_20181111230705.txt\",\n",
    "                     savepath =\"/mnt/archgen/users/hringbauer/git/gedmatch_prep/data/23andme/snps.tsv\")"
   ]
  },
  {
   "cell_type": "code",
   "execution_count": 21,
   "metadata": {},
   "outputs": [
    {
     "data": {
      "text/html": [
       "<div>\n",
       "<style scoped>\n",
       "    .dataframe tbody tr th:only-of-type {\n",
       "        vertical-align: middle;\n",
       "    }\n",
       "\n",
       "    .dataframe tbody tr th {\n",
       "        vertical-align: top;\n",
       "    }\n",
       "\n",
       "    .dataframe thead th {\n",
       "        text-align: right;\n",
       "    }\n",
       "</style>\n",
       "<table border=\"1\" class=\"dataframe\">\n",
       "  <thead>\n",
       "    <tr style=\"text-align: right;\">\n",
       "      <th></th>\n",
       "      <th>rsid</th>\n",
       "      <th>chr</th>\n",
       "      <th>pos</th>\n",
       "      <th>gt</th>\n",
       "    </tr>\n",
       "  </thead>\n",
       "  <tbody>\n",
       "    <tr>\n",
       "      <th>0</th>\n",
       "      <td>rs12564807</td>\n",
       "      <td>1</td>\n",
       "      <td>734462</td>\n",
       "      <td>AA</td>\n",
       "    </tr>\n",
       "    <tr>\n",
       "      <th>1</th>\n",
       "      <td>rs3131972</td>\n",
       "      <td>1</td>\n",
       "      <td>752721</td>\n",
       "      <td>AG</td>\n",
       "    </tr>\n",
       "    <tr>\n",
       "      <th>2</th>\n",
       "      <td>rs148828841</td>\n",
       "      <td>1</td>\n",
       "      <td>760998</td>\n",
       "      <td>CC</td>\n",
       "    </tr>\n",
       "    <tr>\n",
       "      <th>3</th>\n",
       "      <td>rs12124819</td>\n",
       "      <td>1</td>\n",
       "      <td>776546</td>\n",
       "      <td>AA</td>\n",
       "    </tr>\n",
       "    <tr>\n",
       "      <th>4</th>\n",
       "      <td>rs115093905</td>\n",
       "      <td>1</td>\n",
       "      <td>787173</td>\n",
       "      <td>GG</td>\n",
       "    </tr>\n",
       "    <tr>\n",
       "      <th>...</th>\n",
       "      <td>...</td>\n",
       "      <td>...</td>\n",
       "      <td>...</td>\n",
       "      <td>...</td>\n",
       "    </tr>\n",
       "    <tr>\n",
       "      <th>46657</th>\n",
       "      <td>rs4359061</td>\n",
       "      <td>1</td>\n",
       "      <td>249174682</td>\n",
       "      <td>GG</td>\n",
       "    </tr>\n",
       "    <tr>\n",
       "      <th>46658</th>\n",
       "      <td>rs6587762</td>\n",
       "      <td>1</td>\n",
       "      <td>249198164</td>\n",
       "      <td>GG</td>\n",
       "    </tr>\n",
       "    <tr>\n",
       "      <th>46659</th>\n",
       "      <td>rs7527472</td>\n",
       "      <td>1</td>\n",
       "      <td>249202567</td>\n",
       "      <td>CC</td>\n",
       "    </tr>\n",
       "    <tr>\n",
       "      <th>46660</th>\n",
       "      <td>rs6704311</td>\n",
       "      <td>1</td>\n",
       "      <td>249210707</td>\n",
       "      <td>GG</td>\n",
       "    </tr>\n",
       "    <tr>\n",
       "      <th>46661</th>\n",
       "      <td>rs12746903</td>\n",
       "      <td>1</td>\n",
       "      <td>249218992</td>\n",
       "      <td>TT</td>\n",
       "    </tr>\n",
       "  </tbody>\n",
       "</table>\n",
       "<p>46662 rows × 4 columns</p>\n",
       "</div>"
      ],
      "text/plain": [
       "              rsid chr        pos  gt\n",
       "0       rs12564807   1     734462  AA\n",
       "1        rs3131972   1     752721  AG\n",
       "2      rs148828841   1     760998  CC\n",
       "3       rs12124819   1     776546  AA\n",
       "4      rs115093905   1     787173  GG\n",
       "...            ...  ..        ...  ..\n",
       "46657    rs4359061   1  249174682  GG\n",
       "46658    rs6587762   1  249198164  GG\n",
       "46659    rs7527472   1  249202567  CC\n",
       "46660    rs6704311   1  249210707  GG\n",
       "46661   rs12746903   1  249218992  TT\n",
       "\n",
       "[46662 rows x 4 columns]"
      ]
     },
     "execution_count": 21,
     "metadata": {},
     "output_type": "execute_result"
    }
   ],
   "source": [
    "df[df[\"chr\"]==\"1\"]"
   ]
  },
  {
   "cell_type": "markdown",
   "metadata": {},
   "source": [
    "# 2) Check 23andme .bed files\n",
    "Specifically, for intersection with 1240k files\n",
    "(to check whether indexing is same)"
   ]
  },
  {
   "cell_type": "code",
   "execution_count": 32,
   "metadata": {},
   "outputs": [],
   "source": [
    "### Look how bcftools SNP file looks like\n",
    "ch = 1\n",
    "marker_path = f\"/mnt/archgen/users/hringbauer/data/1240kSNPs/bcftools_ch{ch}.csv\"\n",
    "dft = pd.read_csv(marker_path, sep=\"\\t\", header=None)\n",
    "dft.columns = [\"chr\", \"pos\"]"
   ]
  },
  {
   "cell_type": "code",
   "execution_count": 48,
   "metadata": {},
   "outputs": [
    {
     "data": {
      "text/html": [
       "<div>\n",
       "<style scoped>\n",
       "    .dataframe tbody tr th:only-of-type {\n",
       "        vertical-align: middle;\n",
       "    }\n",
       "\n",
       "    .dataframe tbody tr th {\n",
       "        vertical-align: top;\n",
       "    }\n",
       "\n",
       "    .dataframe thead th {\n",
       "        text-align: right;\n",
       "    }\n",
       "</style>\n",
       "<table border=\"1\" class=\"dataframe\">\n",
       "  <thead>\n",
       "    <tr style=\"text-align: right;\">\n",
       "      <th></th>\n",
       "      <th>chr</th>\n",
       "      <th>pos</th>\n",
       "    </tr>\n",
       "  </thead>\n",
       "  <tbody>\n",
       "    <tr>\n",
       "      <th>0</th>\n",
       "      <td>1</td>\n",
       "      <td>752566</td>\n",
       "    </tr>\n",
       "    <tr>\n",
       "      <th>1</th>\n",
       "      <td>1</td>\n",
       "      <td>776546</td>\n",
       "    </tr>\n",
       "    <tr>\n",
       "      <th>2</th>\n",
       "      <td>1</td>\n",
       "      <td>832918</td>\n",
       "    </tr>\n",
       "    <tr>\n",
       "      <th>3</th>\n",
       "      <td>1</td>\n",
       "      <td>842013</td>\n",
       "    </tr>\n",
       "    <tr>\n",
       "      <th>4</th>\n",
       "      <td>1</td>\n",
       "      <td>846864</td>\n",
       "    </tr>\n",
       "    <tr>\n",
       "      <th>...</th>\n",
       "      <td>...</td>\n",
       "      <td>...</td>\n",
       "    </tr>\n",
       "    <tr>\n",
       "      <th>93161</th>\n",
       "      <td>1</td>\n",
       "      <td>249179856</td>\n",
       "    </tr>\n",
       "    <tr>\n",
       "      <th>93162</th>\n",
       "      <td>1</td>\n",
       "      <td>249188627</td>\n",
       "    </tr>\n",
       "    <tr>\n",
       "      <th>93163</th>\n",
       "      <td>1</td>\n",
       "      <td>249198164</td>\n",
       "    </tr>\n",
       "    <tr>\n",
       "      <th>93164</th>\n",
       "      <td>1</td>\n",
       "      <td>249202567</td>\n",
       "    </tr>\n",
       "    <tr>\n",
       "      <th>93165</th>\n",
       "      <td>1</td>\n",
       "      <td>249210707</td>\n",
       "    </tr>\n",
       "  </tbody>\n",
       "</table>\n",
       "<p>93166 rows × 2 columns</p>\n",
       "</div>"
      ],
      "text/plain": [
       "       chr        pos\n",
       "0        1     752566\n",
       "1        1     776546\n",
       "2        1     832918\n",
       "3        1     842013\n",
       "4        1     846864\n",
       "...    ...        ...\n",
       "93161    1  249179856\n",
       "93162    1  249188627\n",
       "93163    1  249198164\n",
       "93164    1  249202567\n",
       "93165    1  249210707\n",
       "\n",
       "[93166 rows x 2 columns]"
      ]
     },
     "execution_count": 48,
     "metadata": {},
     "output_type": "execute_result"
    }
   ],
   "source": [
    "dft"
   ]
  },
  {
   "cell_type": "code",
   "execution_count": 45,
   "metadata": {},
   "outputs": [
    {
     "name": "stdout",
     "output_type": "stream",
     "text": [
      "Merged to 34517/ 46662(23andme) & 93166 (1240k) SNPs\n"
     ]
    }
   ],
   "source": [
    "df_ch = df[df[\"chr\"]==str(ch)]\n",
    "dfm = pd.merge(df_ch, dft, on=[\"pos\"])\n",
    "print(f\"Merged to {len(dfm)}/ {len(df_ch)}(23andme) & {len(dft)} (1240k) SNPs\")"
   ]
  },
  {
   "cell_type": "markdown",
   "metadata": {},
   "source": [
    "# 3) Create 23andme SNP files"
   ]
  },
  {
   "cell_type": "code",
   "execution_count": 78,
   "metadata": {},
   "outputs": [
    {
     "name": "stdout",
     "output_type": "stream",
     "text": [
      "Saved 46662 SNPs to: /mnt/archgen/users/hringbauer/git/gedmatch_prep/data/23andme/bcftools_ch1.csv\n",
      "Saved 46128 SNPs to: /mnt/archgen/users/hringbauer/git/gedmatch_prep/data/23andme/bcftools_ch2.csv\n",
      "Saved 38517 SNPs to: /mnt/archgen/users/hringbauer/git/gedmatch_prep/data/23andme/bcftools_ch3.csv\n",
      "Saved 33915 SNPs to: /mnt/archgen/users/hringbauer/git/gedmatch_prep/data/23andme/bcftools_ch4.csv\n",
      "Saved 34387 SNPs to: /mnt/archgen/users/hringbauer/git/gedmatch_prep/data/23andme/bcftools_ch5.csv\n",
      "Saved 40384 SNPs to: /mnt/archgen/users/hringbauer/git/gedmatch_prep/data/23andme/bcftools_ch6.csv\n",
      "Saved 33053 SNPs to: /mnt/archgen/users/hringbauer/git/gedmatch_prep/data/23andme/bcftools_ch7.csv\n",
      "Saved 30268 SNPs to: /mnt/archgen/users/hringbauer/git/gedmatch_prep/data/23andme/bcftools_ch8.csv\n",
      "Saved 26586 SNPs to: /mnt/archgen/users/hringbauer/git/gedmatch_prep/data/23andme/bcftools_ch9.csv\n",
      "Saved 29210 SNPs to: /mnt/archgen/users/hringbauer/git/gedmatch_prep/data/23andme/bcftools_ch10.csv\n",
      "Saved 29328 SNPs to: /mnt/archgen/users/hringbauer/git/gedmatch_prep/data/23andme/bcftools_ch11.csv\n",
      "Saved 28451 SNPs to: /mnt/archgen/users/hringbauer/git/gedmatch_prep/data/23andme/bcftools_ch12.csv\n",
      "Saved 21679 SNPs to: /mnt/archgen/users/hringbauer/git/gedmatch_prep/data/23andme/bcftools_ch13.csv\n",
      "Saved 18696 SNPs to: /mnt/archgen/users/hringbauer/git/gedmatch_prep/data/23andme/bcftools_ch14.csv\n",
      "Saved 18281 SNPs to: /mnt/archgen/users/hringbauer/git/gedmatch_prep/data/23andme/bcftools_ch15.csv\n",
      "Saved 19199 SNPs to: /mnt/archgen/users/hringbauer/git/gedmatch_prep/data/23andme/bcftools_ch16.csv\n",
      "Saved 18743 SNPs to: /mnt/archgen/users/hringbauer/git/gedmatch_prep/data/23andme/bcftools_ch17.csv\n",
      "Saved 16490 SNPs to: /mnt/archgen/users/hringbauer/git/gedmatch_prep/data/23andme/bcftools_ch18.csv\n",
      "Saved 13002 SNPs to: /mnt/archgen/users/hringbauer/git/gedmatch_prep/data/23andme/bcftools_ch19.csv\n",
      "Saved 14494 SNPs to: /mnt/archgen/users/hringbauer/git/gedmatch_prep/data/23andme/bcftools_ch20.csv\n",
      "Saved 8461 SNPs to: /mnt/archgen/users/hringbauer/git/gedmatch_prep/data/23andme/bcftools_ch21.csv\n",
      "Saved 9098 SNPs to: /mnt/archgen/users/hringbauer/git/gedmatch_prep/data/23andme/bcftools_ch22.csv\n",
      "CPU times: user 1.72 s, sys: 84.8 ms, total: 1.8 s\n",
      "Wall time: 2.14 s\n"
     ]
    }
   ],
   "source": [
    "%%time\n",
    "\n",
    "create_23andme_snpfile(path_23 = \"/mnt/archgen/users/hringbauer/git/gedmatch_prep/data/genome_Harald_Ringbauer_v4_Full_20181111230705.txt\",\n",
    "                       save_folder = \"/mnt/archgen/users/hringbauer/git/gedmatch_prep/data/23andme\")"
   ]
  },
  {
   "cell_type": "markdown",
   "metadata": {},
   "source": [
    "# Area 51"
   ]
  },
  {
   "cell_type": "markdown",
   "metadata": {},
   "source": [
    "## Explore 23andme File"
   ]
  },
  {
   "cell_type": "code",
   "execution_count": 79,
   "metadata": {},
   "outputs": [],
   "source": [
    "dft = extract_23andme_snps(path_23 = \"/mnt/archgen/users/hringbauer/git/gedmatch_prep/data/genome_Harald_Ringbauer_v4_Full_20181111230705.txt\")"
   ]
  },
  {
   "cell_type": "code",
   "execution_count": 81,
   "metadata": {},
   "outputs": [
    {
     "data": {
      "text/plain": [
       "chr\n",
       "1     46662\n",
       "2     46128\n",
       "6     40384\n",
       "3     38517\n",
       "5     34387\n",
       "4     33915\n",
       "7     33053\n",
       "8     30268\n",
       "11    29328\n",
       "10    29210\n",
       "12    28451\n",
       "9     26586\n",
       "13    21679\n",
       "X     19478\n",
       "16    19199\n",
       "17    18743\n",
       "14    18696\n",
       "15    18281\n",
       "18    16490\n",
       "20    14494\n",
       "19    13002\n",
       "22     9098\n",
       "21     8461\n",
       "MT     5083\n",
       "Y      2302\n",
       "Name: count, dtype: int64"
      ]
     },
     "execution_count": 81,
     "metadata": {},
     "output_type": "execute_result"
    }
   ],
   "source": [
    "dft[\"chr\"].value_counts()"
   ]
  },
  {
   "cell_type": "code",
   "execution_count": 82,
   "metadata": {},
   "outputs": [
    {
     "data": {
      "text/html": [
       "<div>\n",
       "<style scoped>\n",
       "    .dataframe tbody tr th:only-of-type {\n",
       "        vertical-align: middle;\n",
       "    }\n",
       "\n",
       "    .dataframe tbody tr th {\n",
       "        vertical-align: top;\n",
       "    }\n",
       "\n",
       "    .dataframe thead th {\n",
       "        text-align: right;\n",
       "    }\n",
       "</style>\n",
       "<table border=\"1\" class=\"dataframe\">\n",
       "  <thead>\n",
       "    <tr style=\"text-align: right;\">\n",
       "      <th></th>\n",
       "      <th>rsid</th>\n",
       "      <th>chr</th>\n",
       "      <th>pos</th>\n",
       "      <th>gt</th>\n",
       "    </tr>\n",
       "  </thead>\n",
       "  <tbody>\n",
       "    <tr>\n",
       "      <th>0</th>\n",
       "      <td>rs12564807</td>\n",
       "      <td>1</td>\n",
       "      <td>734462</td>\n",
       "      <td>AA</td>\n",
       "    </tr>\n",
       "    <tr>\n",
       "      <th>1</th>\n",
       "      <td>rs3131972</td>\n",
       "      <td>1</td>\n",
       "      <td>752721</td>\n",
       "      <td>AG</td>\n",
       "    </tr>\n",
       "    <tr>\n",
       "      <th>2</th>\n",
       "      <td>rs148828841</td>\n",
       "      <td>1</td>\n",
       "      <td>760998</td>\n",
       "      <td>CC</td>\n",
       "    </tr>\n",
       "    <tr>\n",
       "      <th>3</th>\n",
       "      <td>rs12124819</td>\n",
       "      <td>1</td>\n",
       "      <td>776546</td>\n",
       "      <td>AA</td>\n",
       "    </tr>\n",
       "    <tr>\n",
       "      <th>4</th>\n",
       "      <td>rs115093905</td>\n",
       "      <td>1</td>\n",
       "      <td>787173</td>\n",
       "      <td>GG</td>\n",
       "    </tr>\n",
       "    <tr>\n",
       "      <th>...</th>\n",
       "      <td>...</td>\n",
       "      <td>...</td>\n",
       "      <td>...</td>\n",
       "      <td>...</td>\n",
       "    </tr>\n",
       "    <tr>\n",
       "      <th>601890</th>\n",
       "      <td>i4000757</td>\n",
       "      <td>MT</td>\n",
       "      <td>16526</td>\n",
       "      <td>G</td>\n",
       "    </tr>\n",
       "    <tr>\n",
       "      <th>601891</th>\n",
       "      <td>i701671</td>\n",
       "      <td>MT</td>\n",
       "      <td>16526</td>\n",
       "      <td>G</td>\n",
       "    </tr>\n",
       "    <tr>\n",
       "      <th>601892</th>\n",
       "      <td>i4990307</td>\n",
       "      <td>MT</td>\n",
       "      <td>16527</td>\n",
       "      <td>C</td>\n",
       "    </tr>\n",
       "    <tr>\n",
       "      <th>601893</th>\n",
       "      <td>i4000756</td>\n",
       "      <td>MT</td>\n",
       "      <td>16540</td>\n",
       "      <td>C</td>\n",
       "    </tr>\n",
       "    <tr>\n",
       "      <th>601894</th>\n",
       "      <td>i3001931</td>\n",
       "      <td>MT</td>\n",
       "      <td>16547</td>\n",
       "      <td>C</td>\n",
       "    </tr>\n",
       "  </tbody>\n",
       "</table>\n",
       "<p>601895 rows × 4 columns</p>\n",
       "</div>"
      ],
      "text/plain": [
       "               rsid chr     pos  gt\n",
       "0        rs12564807   1  734462  AA\n",
       "1         rs3131972   1  752721  AG\n",
       "2       rs148828841   1  760998  CC\n",
       "3        rs12124819   1  776546  AA\n",
       "4       rs115093905   1  787173  GG\n",
       "...             ...  ..     ...  ..\n",
       "601890     i4000757  MT   16526   G\n",
       "601891      i701671  MT   16526   G\n",
       "601892     i4990307  MT   16527   C\n",
       "601893     i4000756  MT   16540   C\n",
       "601894     i3001931  MT   16547   C\n",
       "\n",
       "[601895 rows x 4 columns]"
      ]
     },
     "execution_count": 82,
     "metadata": {},
     "output_type": "execute_result"
    }
   ],
   "source": [
    "dft"
   ]
  },
  {
   "cell_type": "code",
   "execution_count": null,
   "metadata": {},
   "outputs": [],
   "source": []
  }
 ],
 "metadata": {
  "kernelspec": {
   "display_name": "Python 3",
   "language": "python",
   "name": "python3"
  },
  "language_info": {
   "codemirror_mode": {
    "name": "ipython",
    "version": 3
   },
   "file_extension": ".py",
   "mimetype": "text/x-python",
   "name": "python",
   "nbconvert_exporter": "python",
   "pygments_lexer": "ipython3",
   "version": "3.8.10"
  }
 },
 "nbformat": 4,
 "nbformat_minor": 2
}
