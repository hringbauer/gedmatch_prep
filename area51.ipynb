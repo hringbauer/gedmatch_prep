{
 "cells": [
  {
   "cell_type": "code",
   "execution_count": 17,
   "metadata": {},
   "outputs": [
    {
     "name": "stdout",
     "output_type": "stream",
     "text": [
      "bionc21\n",
      "Leipzig Cluster detected!\n",
      "/mnt/archgen/users/hringbauer/brienzi\n",
      "CPU Count: 40\n"
     ]
    }
   ],
   "source": [
    "import numpy as np\n",
    "import pandas as pd\n",
    "import matplotlib.pyplot as plt\n",
    "import socket as socket\n",
    "import os as os\n",
    "import sys as sys\n",
    "import h5py\n",
    "import matplotlib.cm as cm\n",
    "import itertools as it\n",
    "import multiprocessing as mp\n",
    "\n",
    "socket_name = socket.gethostname()\n",
    "print(socket_name)\n",
    "\n",
    "    \n",
    "if socket_name.startswith(\"bionc\"):\n",
    "    print(\"Leipzig Cluster detected!\")\n",
    "    path = \"/mnt/archgen/users/hringbauer/brienzi/\"\n",
    "    #sys.path.append(\"/mnt/archgen/users/hringbauer/data/malta/\") \n",
    "    \n",
    "else: \n",
    "    raise RuntimeWarning(\"Not compatible machine. Check!!\")\n",
    "    \n",
    "os.chdir(path)  # Set the right Path (in line with Atom default)\n",
    "print(os.getcwd())\n",
    "print(f\"CPU Count: {mp.cpu_count()}\")"
   ]
  },
  {
   "cell_type": "code",
   "execution_count": 4,
   "metadata": {},
   "outputs": [],
   "source": [
    "p = \"/mnt/archgen/users/hringbauer/brienzi/data/splitbam/Brienzi.trio.lib.vcf.gz\""
   ]
  },
  {
   "cell_type": "code",
   "execution_count": 6,
   "metadata": {},
   "outputs": [
    {
     "name": "stdout",
     "output_type": "stream",
     "text": [
      "/mnt/archgen/users/hringbauer/brienzi/data/splitbam/A55903.bam\n",
      "/mnt/archgen/users/hringbauer/brienzi/data/splitbam/A55904.bam\n",
      "/mnt/archgen/users/hringbauer/brienzi/data/splitbam/Brienzi.merged.bam\n"
     ]
    }
   ],
   "source": [
    "!bcftools query -l $p "
   ]
  },
  {
   "cell_type": "code",
   "execution_count": 8,
   "metadata": {},
   "outputs": [
    {
     "name": "stdout",
     "output_type": "stream",
     "text": [
      "78397799\n"
     ]
    }
   ],
   "source": [
    "!bcftools query -f '%POS\\n' $p | wc -l"
   ]
  },
  {
   "cell_type": "markdown",
   "metadata": {},
   "source": [
    "## Test downsampled 1240k set VCF"
   ]
  },
  {
   "cell_type": "code",
   "execution_count": 10,
   "metadata": {},
   "outputs": [
    {
     "name": "stdout",
     "output_type": "stream",
     "text": [
      "15976\n"
     ]
    }
   ],
   "source": [
    "v = \"0.1\"\n",
    "ch=22\n",
    "\n",
    "p = f\"/mnt/archgen/users/hringbauer/brienzi/data/vcf1240k.imputed/v{v}.imputed.ch{ch}.vcf.gz\"\n",
    "!bcftools query -f '%POS\\n' $p | wc -l"
   ]
  },
  {
   "cell_type": "code",
   "execution_count": 11,
   "metadata": {},
   "outputs": [
    {
     "name": "stdout",
     "output_type": "stream",
     "text": [
      "/mnt/archgen/users/hringbauer/brienzi/data/splitbam/A55903.bam\n",
      "/mnt/archgen/users/hringbauer/brienzi/data/splitbam/A55904.bam\n",
      "/mnt/archgen/users/hringbauer/brienzi/data/splitbam/Brienzi.merged.bam\n"
     ]
    }
   ],
   "source": [
    "!bcftools query -l $p "
   ]
  },
  {
   "cell_type": "code",
   "execution_count": null,
   "metadata": {},
   "outputs": [],
   "source": [
    "!bcftools view $p | head -1000"
   ]
  },
  {
   "cell_type": "markdown",
   "metadata": {},
   "source": [
    "### Explore H5 File"
   ]
  },
  {
   "cell_type": "code",
   "execution_count": 18,
   "metadata": {},
   "outputs": [
    {
     "name": "stdout",
     "output_type": "stream",
     "text": [
      "['AF', 'AF_ALL', 'AF_SAMPLE', 'ALT', 'BUF', 'CHROM', 'FILTER_PASS', 'ID', 'INFO', 'MAP', 'POS', 'QUAL', 'RAF', 'REF', 'altlen', 'is_snp', 'numalt']\n",
      "(78525, 3, 2)\n"
     ]
    }
   ],
   "source": [
    "h5_path = \"/mnt/archgen/users/hringbauer/brienzi/data/h5.imputed/v0.1.imputed.ch\"\n",
    "ch =3\n",
    "\n",
    "with h5py.File(f\"{h5_path}{ch}.h5\", \"r\") as f: # Load for Sanity Check. See below!\n",
    "        print(list(f[\"variants\"]))\n",
    "        print(np.shape(f[\"calldata/GT\"]))\n",
    "        #gt = f[\"calldata/GT\"][:]\n",
    "        gp = f[\"calldata/GP\"][:][:,:,:] # Fill in SNP number for TS\n",
    "        samples = f[\"samples\"][:].astype(\"str\")"
   ]
  },
  {
   "cell_type": "code",
   "execution_count": 21,
   "metadata": {},
   "outputs": [],
   "source": [
    "gp_max = np.max(gp, axis=2)"
   ]
  },
  {
   "cell_type": "code",
   "execution_count": 25,
   "metadata": {},
   "outputs": [
    {
     "data": {
      "text/plain": [
       "array([0.03766953, 0.03766953, 0.03766953])"
      ]
     },
     "execution_count": 25,
     "metadata": {},
     "output_type": "execute_result"
    }
   ],
   "source": [
    "np.mean(gp_max>=0.99, axis=0)"
   ]
  },
  {
   "cell_type": "code",
   "execution_count": 26,
   "metadata": {},
   "outputs": [
    {
     "data": {
      "text/plain": [
       "array([[0.488, 0.488, 0.488],\n",
       "       [0.613, 0.613, 0.613],\n",
       "       [0.694, 0.694, 0.694],\n",
       "       ...,\n",
       "       [0.978, 0.978, 0.978],\n",
       "       [0.482, 0.482, 0.482],\n",
       "       [0.654, 0.654, 0.654]], dtype=float32)"
      ]
     },
     "execution_count": 26,
     "metadata": {},
     "output_type": "execute_result"
    }
   ],
   "source": [
    "gp_max"
   ]
  },
  {
   "cell_type": "code",
   "execution_count": 63,
   "metadata": {},
   "outputs": [
    {
     "name": "stdout",
     "output_type": "stream",
     "text": [
      "['ALT', 'MAP', 'POS', 'REF']\n",
      "['AD', 'GT']\n",
      "(77652, 1, 2)\n"
     ]
    }
   ],
   "source": [
    "h5_path = \"/mnt/archgen/users/hringbauer/brienzi/data/h5/BRI001.chr\"\n",
    "ch =3\n",
    "\n",
    "with h5py.File(f\"{h5_path}{ch}.hdf5\", \"r\") as f: # Load for Sanity Check. See below!\n",
    "        print(list(f[\"variants\"]))\n",
    "        print(list(f[\"calldata\"]))\n",
    "        print(np.shape(f[\"calldata/AD\"]))\n",
    "        ad = f[\"calldata/AD\"][:]\n",
    "        gt = f[\"calldata/GT\"][:]\n",
    "        #gp = f[\"calldata/GP\"][:][:,:,:] # Fill in SNP number for TS\n",
    "        samples = f[\"samples\"][:].astype(\"str\")"
   ]
  },
  {
   "cell_type": "code",
   "execution_count": 64,
   "metadata": {},
   "outputs": [
    {
     "data": {
      "text/plain": [
       "4.725609127903982"
      ]
     },
     "execution_count": 64,
     "metadata": {},
     "output_type": "execute_result"
    }
   ],
   "source": [
    "np.mean(np.sum(ad, axis=2))"
   ]
  },
  {
   "cell_type": "code",
   "execution_count": 61,
   "metadata": {},
   "outputs": [
    {
     "data": {
      "text/plain": [
       "4.762916602276825"
      ]
     },
     "execution_count": 61,
     "metadata": {},
     "output_type": "execute_result"
    }
   ],
   "source": [
    "np.mean(np.sum(ad, axis=2))"
   ]
  },
  {
   "cell_type": "code",
   "execution_count": 65,
   "metadata": {},
   "outputs": [
    {
     "data": {
      "text/plain": [
       "0.671573172616288"
      ]
     },
     "execution_count": 65,
     "metadata": {},
     "output_type": "execute_result"
    }
   ],
   "source": [
    "np.mean(np.sum(ad, axis=2)>0)"
   ]
  },
  {
   "cell_type": "code",
   "execution_count": 62,
   "metadata": {},
   "outputs": [
    {
     "data": {
      "text/plain": [
       "0.5745119249987122"
      ]
     },
     "execution_count": 62,
     "metadata": {},
     "output_type": "execute_result"
    }
   ],
   "source": [
    "np.mean(np.sum(ad, axis=2)>0)"
   ]
  },
  {
   "cell_type": "markdown",
   "metadata": {},
   "source": [
    "### How many reads in file"
   ]
  },
  {
   "cell_type": "code",
   "execution_count": 85,
   "metadata": {},
   "outputs": [],
   "source": [
    "p = \"/mnt/archgen/users/hringbauer/brienzi/data/splitbam/A55903.bam\" # Y capture"
   ]
  },
  {
   "cell_type": "code",
   "execution_count": 82,
   "metadata": {},
   "outputs": [
    {
     "name": "stdout",
     "output_type": "stream",
     "text": [
      "28740097\n"
     ]
    }
   ],
   "source": [
    "!samtools view -c $p"
   ]
  },
  {
   "cell_type": "code",
   "execution_count": 34,
   "metadata": {},
   "outputs": [
    {
     "name": "stdout",
     "output_type": "stream",
     "text": [
      "29474192\n"
     ]
    }
   ],
   "source": [
    "!samtools view -c $p"
   ]
  },
  {
   "cell_type": "code",
   "execution_count": 84,
   "metadata": {},
   "outputs": [
    {
     "name": "stdout",
     "output_type": "stream",
     "text": [
      "1\t1259767\n",
      "2\t1260330\n",
      "3\t1186454\n",
      "4\t1249100\n",
      "5\t1137855\n",
      "6\t1012158\n",
      "7\t841791\n",
      "8\t891338\n",
      "9\t643083\n",
      "10\t694954\n",
      "11\t811359\n",
      "12\t761135\n",
      "13\t512535\n",
      "14\t488362\n",
      "15\t395600\n",
      "16\t328505\n",
      "17\t286900\n",
      "18\t359662\n",
      "19\t260578\n",
      "20\t241819\n",
      "21\t174950\n",
      "22\t129557\n",
      "X\t1051198\n",
      "Y\t2640755\n",
      "MT\t45852\n",
      "GL000207.1\t7\n",
      "GL000226.1\t935\n",
      "GL000229.1\t111\n",
      "GL000231.1\t928\n",
      "GL000210.1\t31\n",
      "GL000239.1\t191\n",
      "GL000235.1\t932\n",
      "GL000201.1\t43\n",
      "GL000247.1\t79\n",
      "GL000245.1\t1167\n",
      "GL000197.1\t55\n",
      "GL000203.1\t30\n",
      "GL000246.1\t605\n",
      "GL000249.1\t35\n",
      "GL000196.1\t573\n",
      "GL000248.1\t53\n",
      "GL000244.1\t53\n",
      "GL000238.1\t77\n",
      "GL000202.1\t62\n",
      "GL000234.1\t908\n",
      "GL000232.1\t332\n",
      "GL000206.1\t48\n",
      "GL000240.1\t959\n",
      "GL000236.1\t658\n",
      "GL000241.1\t566\n",
      "GL000243.1\t121\n",
      "GL000242.1\t39\n",
      "GL000230.1\t161\n",
      "GL000237.1\t289\n",
      "GL000233.1\t589\n",
      "GL000204.1\t123\n",
      "GL000198.1\t720\n",
      "GL000208.1\t3393\n",
      "GL000191.1\t236\n",
      "GL000227.1\t477\n",
      "GL000228.1\t222\n",
      "GL000214.1\t4760\n",
      "GL000221.1\t3603\n",
      "GL000209.1\t94\n",
      "GL000218.1\t2982\n",
      "GL000220.1\t9881\n",
      "GL000213.1\t471\n",
      "GL000211.1\t1974\n",
      "GL000199.1\t759\n",
      "GL000217.1\t1121\n",
      "GL000216.1\t501\n",
      "GL000215.1\t622\n",
      "GL000205.1\t2568\n",
      "GL000219.1\t4410\n",
      "GL000224.1\t1783\n",
      "GL000223.1\t633\n",
      "GL000195.1\t1560\n",
      "GL000212.1\t1091\n",
      "GL000222.1\t685\n",
      "GL000200.1\t227\n",
      "GL000193.1\t993\n",
      "GL000194.1\t2101\n",
      "GL000225.1\t504\n",
      "GL000192.1\t3219\n",
      "NC_007605\t492\n",
      "hs37d5\t222332\n",
      "phiX\t50\n",
      "*\t0\n"
     ]
    }
   ],
   "source": [
    "!samtools idxstats $p | cut -f 1,3"
   ]
  },
  {
   "cell_type": "code",
   "execution_count": 74,
   "metadata": {},
   "outputs": [
    {
     "name": "stdout",
     "output_type": "stream",
     "text": [
      "samtools view: writing to standard output failed: Broken pipe\n",
      "samtools view: error closing standard output: -1\n",
      "   4331 10\n",
      "   6706 11\n",
      "   8535 12\n",
      "   9133 13\n",
      "   9608 14\n",
      "   9731 15\n",
      "   9068 16\n",
      "   9009 17\n",
      "   8915 18\n",
      "   8317 19\n",
      "   7866 20\n",
      "   6732 21\n",
      "   6124 22\n",
      "   4646 23\n",
      "   3572 24\n",
      "   2611 25\n",
      "   1753 26\n",
      "   1308 27\n",
      "   1040 28\n",
      "    883 29\n",
      "   1059 30\n",
      "   1026 31\n",
      "   1108 32\n",
      "   1230 33\n",
      "   1265 34\n",
      "   1442 35\n",
      "   1658 36\n",
      "   1662 37\n",
      "   2009 38\n",
      "   2148 39\n",
      "   2554 40\n",
      "   2718 41\n",
      "   2825 42\n",
      "   2980 43\n",
      "   2990 44\n",
      "   3254 45\n",
      "   3499 46\n",
      "   3661 47\n",
      "   3858 48\n",
      "   4199 49\n",
      "      2 5\n",
      "   4566 50\n",
      "   4793 51\n",
      "   5015 52\n",
      "   5105 53\n",
      "   4973 54\n",
      "   5047 55\n",
      "   5180 56\n",
      "   5393 57\n",
      "   5562 58\n",
      "   5867 59\n",
      "      6 6\n",
      "   5880 60\n",
      "   6269 61\n",
      "   6162 62\n",
      "   6437 63\n",
      "   6302 64\n",
      "   6220 65\n",
      "   6238 66\n",
      "   6078 67\n",
      "   6541 68\n",
      "   6623 69\n",
      "    137 7\n",
      "   6843 70\n",
      "   7666 71\n",
      "   9627 72\n",
      "  22186 73\n",
      " 668851 76\n",
      "    950 8\n",
      "   2448 9\n"
     ]
    }
   ],
   "source": [
    "!samtools view $p | head -n 1000000 | cut -f 10 | perl -ne 'chomp;print length($_) . \"\\n\"' | sort | uniq -c"
   ]
  },
  {
   "cell_type": "code",
   "execution_count": 78,
   "metadata": {},
   "outputs": [
    {
     "name": "stdout",
     "output_type": "stream",
     "text": [
      "19183425\n"
     ]
    }
   ],
   "source": [
    "p = '/mnt/archgen/users/hringbauer/data/brienzi_capture/A55903.bam'\n",
    "!samtools view -c $p"
   ]
  },
  {
   "cell_type": "code",
   "execution_count": 79,
   "metadata": {},
   "outputs": [],
   "source": [
    "p = \"/mnt/archgen/users/hringbauer/brienzi/data/capture/A55903.bam\""
   ]
  },
  {
   "cell_type": "code",
   "execution_count": 36,
   "metadata": {},
   "outputs": [
    {
     "name": "stdout",
     "output_type": "stream",
     "text": [
      "19183425\n"
     ]
    }
   ],
   "source": [
    "!samtools view -c $p"
   ]
  },
  {
   "cell_type": "code",
   "execution_count": 80,
   "metadata": {},
   "outputs": [
    {
     "name": "stdout",
     "output_type": "stream",
     "text": [
      "1\t851182\n",
      "2\t869755\n",
      "3\t728084\n",
      "4\t627123\n",
      "5\t652944\n",
      "6\t684057\n",
      "7\t559402\n",
      "8\t570709\n",
      "9\t473974\n",
      "10\t525235\n",
      "11\t492523\n",
      "12\t500876\n",
      "13\t352865\n",
      "14\t332676\n",
      "15\t319390\n",
      "16\t317600\n",
      "17\t273311\n",
      "18\t301593\n",
      "19\t178823\n",
      "20\t259496\n",
      "21\t139985\n",
      "22\t140093\n",
      "X\t266709\n",
      "Y\t158005\n",
      "MT\t27922\n",
      "GL000207.1\t4\n",
      "GL000226.1\t944\n",
      "GL000229.1\t39\n",
      "GL000231.1\t56\n",
      "GL000210.1\t34\n",
      "GL000239.1\t43\n",
      "GL000235.1\t32\n",
      "GL000201.1\t47\n",
      "GL000247.1\t38\n",
      "GL000245.1\t22\n",
      "GL000197.1\t35\n",
      "GL000203.1\t25\n",
      "GL000246.1\t41\n",
      "GL000249.1\t31\n",
      "GL000196.1\t22\n",
      "GL000248.1\t51\n",
      "GL000244.1\t35\n",
      "GL000238.1\t54\n",
      "GL000202.1\t43\n",
      "GL000234.1\t215\n",
      "GL000232.1\t120\n",
      "GL000206.1\t43\n",
      "GL000240.1\t53\n",
      "GL000236.1\t24\n",
      "GL000241.1\t62\n",
      "GL000243.1\t106\n",
      "GL000242.1\t91\n",
      "GL000230.1\t26\n",
      "GL000237.1\t86\n",
      "GL000233.1\t29\n",
      "GL000204.1\t101\n",
      "GL000198.1\t56\n",
      "GL000208.1\t145\n",
      "GL000191.1\t119\n",
      "GL000227.1\t92\n",
      "GL000228.1\t185\n",
      "GL000214.1\t417\n",
      "GL000221.1\t182\n",
      "GL000209.1\t116\n",
      "GL000218.1\t261\n",
      "GL000220.1\t2241\n",
      "GL000213.1\t100\n",
      "GL000211.1\t212\n",
      "GL000199.1\t713\n",
      "GL000217.1\t191\n",
      "GL000216.1\t228\n",
      "GL000215.1\t143\n",
      "GL000205.1\t238\n",
      "GL000219.1\t185\n",
      "GL000224.1\t305\n",
      "GL000223.1\t208\n",
      "GL000195.1\t268\n",
      "GL000212.1\t213\n",
      "GL000222.1\t189\n",
      "GL000200.1\t99\n",
      "GL000193.1\t235\n",
      "GL000194.1\t265\n",
      "GL000225.1\t342\n",
      "GL000192.1\t858\n",
      "NC_007605\t421\n",
      "hs37d5\t69788\n",
      "phiX\t33\n",
      "*\t0\n"
     ]
    }
   ],
   "source": [
    "!samtools idxstats $p | cut -f 1,3"
   ]
  },
  {
   "cell_type": "code",
   "execution_count": 72,
   "metadata": {},
   "outputs": [
    {
     "name": "stdout",
     "output_type": "stream",
     "text": [
      "samtools view: writing to standard output failed: Broken pipe\n",
      "samtools view: error closing standard output: -1\n",
      "   5352 10\n",
      "   8518 11\n",
      "  11644 12\n",
      "  12930 13\n",
      "  13457 14\n",
      "  13995 15\n",
      "  13001 16\n",
      "  12617 17\n",
      "  12500 18\n",
      "  11928 19\n",
      "  11098 20\n",
      "   9612 21\n",
      "  10351 22\n",
      "   9831 23\n",
      "   8254 24\n",
      "   6235 25\n",
      "   4218 26\n",
      "   2682 27\n",
      "   1772 28\n",
      "   1265 29\n",
      "   1092 30\n",
      "   1108 31\n",
      "   1134 32\n",
      "   1116 33\n",
      "   1147 34\n",
      "   1261 35\n",
      "   1400 36\n",
      "   1454 37\n",
      "   1732 38\n",
      "   1784 39\n",
      "   2071 40\n",
      "   2270 41\n",
      "   2483 42\n",
      "   2536 43\n",
      "   2506 44\n",
      "   2552 45\n",
      "   2816 46\n",
      "   3052 47\n",
      "   3283 48\n",
      "   3347 49\n",
      "      3 5\n",
      "   3890 50\n",
      "   3794 51\n",
      "   4026 52\n",
      "   4220 53\n",
      "   4277 54\n",
      "   4284 55\n",
      "   4363 56\n",
      "   4624 57\n",
      "   4726 58\n",
      "   5032 59\n",
      "      9 6\n",
      "   5208 60\n",
      "   5117 61\n",
      "   5454 62\n",
      "   5491 63\n",
      "   5705 64\n",
      "   5475 65\n",
      "   5618 66\n",
      "   5617 67\n",
      "   5779 68\n",
      "   6032 69\n",
      "    179 7\n",
      "   6707 70\n",
      "   6872 71\n",
      "   9782 72\n",
      "  21733 73\n",
      " 630749 76\n",
      "   1037 8\n",
      "   2793 9\n"
     ]
    }
   ],
   "source": [
    "!samtools view $p | head -n 1000000 | cut -f 10 | perl -ne 'chomp;print length($_) . \"\\n\"' | sort | uniq -c"
   ]
  },
  {
   "cell_type": "code",
   "execution_count": null,
   "metadata": {},
   "outputs": [],
   "source": []
  }
 ],
 "metadata": {
  "kernelspec": {
   "display_name": "Python 3",
   "language": "python",
   "name": "python3"
  },
  "language_info": {
   "codemirror_mode": {
    "name": "ipython",
    "version": 3
   },
   "file_extension": ".py",
   "mimetype": "text/x-python",
   "name": "python",
   "nbconvert_exporter": "python",
   "pygments_lexer": "ipython3",
   "version": "3.8.10"
  }
 },
 "nbformat": 4,
 "nbformat_minor": 2
}
