{
 "cells": [
  {
   "cell_type": "markdown",
   "metadata": {},
   "source": [
    "# Notebook to process imputed data of Brienzi"
   ]
  },
  {
   "cell_type": "code",
   "execution_count": 9,
   "metadata": {},
   "outputs": [
    {
     "name": "stdout",
     "output_type": "stream",
     "text": [
      "bionc21\n",
      "Leipzig Cluster detected!\n",
      "/mnt/archgen/users/hringbauer/brienzi\n",
      "CPU Count: 40\n"
     ]
    }
   ],
   "source": [
    "import numpy as np\n",
    "import pandas as pd\n",
    "import matplotlib.pyplot as plt\n",
    "import socket as socket\n",
    "import os as os\n",
    "import sys as sys\n",
    "import h5py\n",
    "import matplotlib.cm as cm\n",
    "import itertools as it\n",
    "import multiprocessing as mp\n",
    "\n",
    "socket_name = socket.gethostname()\n",
    "print(socket_name)\n",
    "\n",
    "    \n",
    "if socket_name.startswith(\"bionc\"):\n",
    "    print(\"Leipzig Cluster detected!\")\n",
    "    path = \"/mnt/archgen/users/hringbauer/brienzi/\"\n",
    "    #sys.path.append(\"/mnt/archgen/users/hringbauer/data/malta/\") \n",
    "    \n",
    "else: \n",
    "    raise RuntimeWarning(\"Not compatible machine. Check!!\")\n",
    "    \n",
    "os.chdir(path)  # Set the right Path (in line with Atom default)\n",
    "print(os.getcwd())\n",
    "print(f\"CPU Count: {mp.cpu_count()}\")\n",
    "\n",
    "from ancIBD.IO.prepare_h5 import vcf_to_1240K_hdf"
   ]
  },
  {
   "cell_type": "markdown",
   "metadata": {},
   "source": [
    "### Explore VCF"
   ]
  },
  {
   "cell_type": "code",
   "execution_count": 10,
   "metadata": {},
   "outputs": [],
   "source": [
    "#p = \"/mnt/archgen/users/hringbauer/brienzi/data/splitbam/Brienzi.trio.lib.vcf.gz\"\n",
    "p = \"/mnt/archgen/users/hringbauer/brienzi/data/splitbam/Brienzi.trio.lib.vcf.gz\""
   ]
  },
  {
   "cell_type": "code",
   "execution_count": null,
   "metadata": {},
   "outputs": [],
   "source": [
    "!bcftools view $p | head -80"
   ]
  },
  {
   "cell_type": "markdown",
   "metadata": {},
   "source": [
    "## 0) Explore: Downsample to target SNP set\n",
    "Here: Try 1240k"
   ]
  },
  {
   "cell_type": "code",
   "execution_count": 4,
   "metadata": {},
   "outputs": [
    {
     "name": "stdout",
     "output_type": "stream",
     "text": [
      "CPU times: user 7.84 s, sys: 1.43 s, total: 9.26 s\n",
      "Wall time: 3min 58s\n"
     ]
    }
   ],
   "source": [
    "%%time \n",
    "\n",
    "for ch in range(1,22):\n",
    "    print(f\"Running Chromosome {ch}...\")\n",
    "\n",
    "    in_vcf_path = \"/mnt/archgen/users/hringbauer/brienzi/data/splitbam/Brienzi.trio.lib.vcf.gz\"\n",
    "    marker_path = f\"/mnt/archgen/users/hringbauer/data/1240kSNPs/bcftools_ch{ch}.csv\"\n",
    "    out_vcf_path = f\"/mnt/archgen/users/hringbauer/brienzi/data/vcf1240k.imputed/v{v}.imputed.ch{ch}.vcf.gz\"\n",
    "\n",
    "    !bcftools view -Oz -o {out_vcf_path} -T {marker_path} -M2 -v snps {in_vcf_path}\n",
    "    print(\"Indexing...\")\n",
    "    !bcftools index {out_vcf_path}"
   ]
  },
  {
   "cell_type": "markdown",
   "metadata": {},
   "source": [
    "# 1) Create 1240 imputed HDF5 (for easier processing)"
   ]
  },
  {
   "cell_type": "code",
   "execution_count": null,
   "metadata": {},
   "outputs": [
    {
     "name": "stdout",
     "output_type": "stream",
     "text": [
      "Running Chromosome 2...\n",
      "Print downsampling to 1240K...\n",
      "Running bash command: \n",
      "bcftools view -Oz -o /mnt/archgen/users/hringbauer/brienzi/data/vcf1240k.imputed/v0.2.imputed.ch2.vcf.gz -T /mnt/archgen/users/hringbauer/data/1240kSNPs/bcftools_ch2.csv -M2 -v snps /mnt/archgen/users/hringbauer/brienzi/data/splitbam/Brienzi.trio.lib.vcf.gz\n",
      "Finished BCF tools filtering to target markers.\n",
      "Converting to HDF5...\n",
      "Finished conversion to hdf5!\n",
      "Merging in LD Map..\n",
      "Lifting LD Map from eigenstrat to HDF5...\n",
      "Loaded 95309 variants.\n",
      "Loaded 3 individuals.\n",
      "Loaded 98657 Chr.2 1240K SNPs.\n",
      "Intersection 94799 out of 95309 HDF5 SNPs\n",
      "Interpolating 510 variants.\n",
      "Finished Chromosome 2.\n",
      "Adding map to HDF5...\n",
      "Calculating in sample allele frequencies and saving at hdf5 column AF_SAMPLE\n",
      "Adding Allele Frequencies to HDF5...\n",
      "Loaded 95309 variants.\n",
      "Finshed merged in allele frequencies into /mnt/archgen/users/hringbauer/brienzi/data/h5.imputed/v0.2.imputed.ch2.h5\n",
      "Intersection 93471 out of 95309 target HDF5 SNPs. 1838 SNPs set to AF=0.5\n",
      "Transformation complete! Find new hdf5 file at: /mnt/archgen/users/hringbauer/brienzi/data/h5.imputed/v0.2.imputed.ch2.h5\n",
      "\n",
      "Running Chromosome 3...\n",
      "Print downsampling to 1240K...\n",
      "Running bash command: \n",
      "bcftools view -Oz -o /mnt/archgen/users/hringbauer/brienzi/data/vcf1240k.imputed/v0.2.imputed.ch3.vcf.gz -T /mnt/archgen/users/hringbauer/data/1240kSNPs/bcftools_ch3.csv -M2 -v snps /mnt/archgen/users/hringbauer/brienzi/data/splitbam/Brienzi.trio.lib.vcf.gz\n",
      "Finished BCF tools filtering to target markers.\n",
      "Converting to HDF5...\n",
      "Finished conversion to hdf5!\n",
      "Merging in LD Map..\n",
      "Lifting LD Map from eigenstrat to HDF5...\n",
      "Loaded 78523 variants.\n",
      "Loaded 3 individuals.\n",
      "Loaded 81416 Chr.3 1240K SNPs.\n",
      "Intersection 78105 out of 78523 HDF5 SNPs\n",
      "Interpolating 418 variants.\n",
      "Finished Chromosome 3.\n",
      "Adding map to HDF5...\n",
      "Calculating in sample allele frequencies and saving at hdf5 column AF_SAMPLE\n",
      "Adding Allele Frequencies to HDF5...\n",
      "Loaded 78523 variants.\n",
      "Finshed merged in allele frequencies into /mnt/archgen/users/hringbauer/brienzi/data/h5.imputed/v0.2.imputed.ch3.h5\n",
      "Intersection 77013 out of 78523 target HDF5 SNPs. 1510 SNPs set to AF=0.5\n",
      "Transformation complete! Find new hdf5 file at: /mnt/archgen/users/hringbauer/brienzi/data/h5.imputed/v0.2.imputed.ch3.h5\n",
      "\n",
      "Running Chromosome 4...\n",
      "Print downsampling to 1240K...\n",
      "Running bash command: \n",
      "bcftools view -Oz -o /mnt/archgen/users/hringbauer/brienzi/data/vcf1240k.imputed/v0.2.imputed.ch4.vcf.gz -T /mnt/archgen/users/hringbauer/data/1240kSNPs/bcftools_ch4.csv -M2 -v snps /mnt/archgen/users/hringbauer/brienzi/data/splitbam/Brienzi.trio.lib.vcf.gz\n",
      "Finished BCF tools filtering to target markers.\n",
      "Converting to HDF5...\n",
      "Finished conversion to hdf5!\n",
      "Merging in LD Map..\n",
      "Lifting LD Map from eigenstrat to HDF5...\n",
      "Loaded 69594 variants.\n",
      "Loaded 3 individuals.\n",
      "Loaded 71634 Chr.4 1240K SNPs.\n",
      "Intersection 69191 out of 69594 HDF5 SNPs\n",
      "Interpolating 403 variants.\n",
      "Finished Chromosome 4.\n",
      "Adding map to HDF5...\n",
      "Calculating in sample allele frequencies and saving at hdf5 column AF_SAMPLE\n",
      "Adding Allele Frequencies to HDF5...\n",
      "Loaded 69594 variants.\n",
      "Finshed merged in allele frequencies into /mnt/archgen/users/hringbauer/brienzi/data/h5.imputed/v0.2.imputed.ch4.h5\n",
      "Intersection 68254 out of 69594 target HDF5 SNPs. 1340 SNPs set to AF=0.5\n",
      "Transformation complete! Find new hdf5 file at: /mnt/archgen/users/hringbauer/brienzi/data/h5.imputed/v0.2.imputed.ch4.h5\n",
      "\n",
      "Running Chromosome 5...\n",
      "Print downsampling to 1240K...\n",
      "Running bash command: \n",
      "bcftools view -Oz -o /mnt/archgen/users/hringbauer/brienzi/data/vcf1240k.imputed/v0.2.imputed.ch5.vcf.gz -T /mnt/archgen/users/hringbauer/data/1240kSNPs/bcftools_ch5.csv -M2 -v snps /mnt/archgen/users/hringbauer/brienzi/data/splitbam/Brienzi.trio.lib.vcf.gz\n",
      "Finished BCF tools filtering to target markers.\n",
      "Converting to HDF5...\n",
      "Finished conversion to hdf5!\n",
      "Merging in LD Map..\n",
      "Lifting LD Map from eigenstrat to HDF5...\n",
      "Loaded 70221 variants.\n",
      "Loaded 3 individuals.\n",
      "Loaded 74004 Chr.5 1240K SNPs.\n",
      "Intersection 69823 out of 70221 HDF5 SNPs\n",
      "Interpolating 398 variants.\n",
      "Finished Chromosome 5.\n",
      "Adding map to HDF5...\n",
      "Calculating in sample allele frequencies and saving at hdf5 column AF_SAMPLE\n",
      "Adding Allele Frequencies to HDF5...\n",
      "Loaded 70221 variants.\n",
      "Finshed merged in allele frequencies into /mnt/archgen/users/hringbauer/brienzi/data/h5.imputed/v0.2.imputed.ch5.h5\n",
      "Intersection 68899 out of 70221 target HDF5 SNPs. 1322 SNPs set to AF=0.5\n",
      "Transformation complete! Find new hdf5 file at: /mnt/archgen/users/hringbauer/brienzi/data/h5.imputed/v0.2.imputed.ch5.h5\n",
      "\n",
      "Running Chromosome 6...\n",
      "Print downsampling to 1240K...\n",
      "Running bash command: \n",
      "bcftools view -Oz -o /mnt/archgen/users/hringbauer/brienzi/data/vcf1240k.imputed/v0.2.imputed.ch6.vcf.gz -T /mnt/archgen/users/hringbauer/data/1240kSNPs/bcftools_ch6.csv -M2 -v snps /mnt/archgen/users/hringbauer/brienzi/data/splitbam/Brienzi.trio.lib.vcf.gz\n"
     ]
    }
   ],
   "source": [
    "%%time\n",
    "\n",
    "for ch in range(1,23):\n",
    "    print(f\"Running Chromosome {ch}...\")\n",
    "    v = 0.2\n",
    "\n",
    "    vcf_to_1240K_hdf(in_vcf_path = \"/mnt/archgen/users/hringbauer/brienzi/data/splitbam/Brienzi.trio.lib.vcf.gz\",\n",
    "             path_vcf = f\"/mnt/archgen/users/hringbauer/brienzi/data/vcf1240k.imputed/v{v}.imputed.ch{ch}.vcf.gz\",\n",
    "             path_h5 = f\"/mnt/archgen/users/hringbauer/brienzi/data/h5.imputed/v{v}.imputed.ch{ch}.h5\",\n",
    "             marker_path = f\"/mnt/archgen/users/hringbauer/data/1240kSNPs/bcftools_ch{ch}.csv\",\n",
    "             map_path = f\"/mnt/archgen/users/hringbauer/data/afs/v51.1_1240k.snp\", \n",
    "             af_path = f\"/mnt/archgen/users/hringbauer/data/afs/v51.1_1240k_AF_ch{ch}.tsv\",\n",
    "             col_sample_af = \"AF_SAMPLE\",\n",
    "             ch=ch, \n",
    "             chunk_length=10000)"
   ]
  },
  {
   "cell_type": "markdown",
   "metadata": {},
   "source": [
    "### 1b) Create 1000G imputed HDF"
   ]
  },
  {
   "cell_type": "code",
   "execution_count": null,
   "metadata": {},
   "outputs": [
    {
     "name": "stdout",
     "output_type": "stream",
     "text": [
      "Running Chromosome 1...\n",
      "Print downsampling to 1240K...\n",
      "Converting to HDF5...\n"
     ]
    }
   ],
   "source": [
    "%%time\n",
    "\n",
    "for ch in range(1,23):\n",
    "    print(f\"Running Chromosome {ch}...\")\n",
    "    v = 0.2\n",
    "\n",
    "    vcf_to_1240K_hdf(in_vcf_path = \"/mnt/archgen/users/hringbauer/brienzi/data/splitbam/Brienzi.trio.lib.vcf.gz\",\n",
    "             path_vcf = \"\",\n",
    "             path_h5 = f\"/mnt/archgen/users/hringbauer/brienzi/data/h5.imputed.1000G/v{v}.imputed.ch{ch}.h5\",\n",
    "             marker_path = \"\",\n",
    "             map_path = \"\", \n",
    "             af_path = \"\",\n",
    "             col_sample_af = \"AF_SAMPLE\",\n",
    "             ch=ch, \n",
    "             chunk_length=10000)"
   ]
  },
  {
   "cell_type": "code",
   "execution_count": 76,
   "metadata": {},
   "outputs": [
    {
     "name": "stdout",
     "output_type": "stream",
     "text": [
      "finished\n"
     ]
    }
   ],
   "source": [
    "print(\"finished\")"
   ]
  },
  {
   "cell_type": "markdown",
   "metadata": {},
   "source": [
    "## 1c) Create 23andme SNP imputed HDF\n",
    "Use the 23andme bcftools SNP file created over in `prep_snpset.ipynb`"
   ]
  },
  {
   "cell_type": "code",
   "execution_count": 117,
   "metadata": {},
   "outputs": [
    {
     "name": "stdout",
     "output_type": "stream",
     "text": [
      "Running Chromosome 1...\n",
      "Print downsampling to 1240K...\n",
      "Running bash command: \n",
      "bcftools view -Oz -o /mnt/archgen/users/hringbauer/brienzi/data/vcf23andme.imputed/v0.2.imputed.ch1.vcf.gz -T /mnt/archgen/users/hringbauer/git/gedmatch_prep/data/23andme/bcftools_ch1.csv -M2 -v snps /mnt/archgen/users/hringbauer/brienzi/data/splitbam/Brienzi.trio.lib.vcf.gz\n",
      "Finished BCF tools filtering to target markers.\n",
      "Converting to HDF5...\n",
      "Finished conversion to hdf5!\n",
      "Merging in LD Map..\n",
      "Calculating in sample allele frequencies and saving at hdf5 column AF_SAMPLE\n",
      "Adding Allele Frequencies to HDF5...\n",
      "Loaded 42714 variants.\n",
      "Finshed merged in allele frequencies into /mnt/archgen/users/hringbauer/brienzi/data/h5.imputed.23andme/v0.2.imputed.ch1.h5\n",
      "Transformation complete! Find new hdf5 file at: /mnt/archgen/users/hringbauer/brienzi/data/h5.imputed.23andme/v0.2.imputed.ch1.h5\n",
      "\n",
      "Running Chromosome 2...\n",
      "Print downsampling to 1240K...\n",
      "Running bash command: \n",
      "bcftools view -Oz -o /mnt/archgen/users/hringbauer/brienzi/data/vcf23andme.imputed/v0.2.imputed.ch2.vcf.gz -T /mnt/archgen/users/hringbauer/git/gedmatch_prep/data/23andme/bcftools_ch2.csv -M2 -v snps /mnt/archgen/users/hringbauer/brienzi/data/splitbam/Brienzi.trio.lib.vcf.gz\n",
      "Finished BCF tools filtering to target markers.\n",
      "Converting to HDF5...\n",
      "Finished conversion to hdf5!\n",
      "Merging in LD Map..\n",
      "Calculating in sample allele frequencies and saving at hdf5 column AF_SAMPLE\n",
      "Adding Allele Frequencies to HDF5...\n",
      "Loaded 43483 variants.\n",
      "Finshed merged in allele frequencies into /mnt/archgen/users/hringbauer/brienzi/data/h5.imputed.23andme/v0.2.imputed.ch2.h5\n",
      "Transformation complete! Find new hdf5 file at: /mnt/archgen/users/hringbauer/brienzi/data/h5.imputed.23andme/v0.2.imputed.ch2.h5\n",
      "\n",
      "Running Chromosome 3...\n",
      "Print downsampling to 1240K...\n",
      "Running bash command: \n",
      "bcftools view -Oz -o /mnt/archgen/users/hringbauer/brienzi/data/vcf23andme.imputed/v0.2.imputed.ch3.vcf.gz -T /mnt/archgen/users/hringbauer/git/gedmatch_prep/data/23andme/bcftools_ch3.csv -M2 -v snps /mnt/archgen/users/hringbauer/brienzi/data/splitbam/Brienzi.trio.lib.vcf.gz\n",
      "Finished BCF tools filtering to target markers.\n",
      "Converting to HDF5...\n",
      "Finished conversion to hdf5!\n",
      "Merging in LD Map..\n",
      "Calculating in sample allele frequencies and saving at hdf5 column AF_SAMPLE\n",
      "Adding Allele Frequencies to HDF5...\n",
      "Loaded 36223 variants.\n",
      "Finshed merged in allele frequencies into /mnt/archgen/users/hringbauer/brienzi/data/h5.imputed.23andme/v0.2.imputed.ch3.h5\n",
      "Transformation complete! Find new hdf5 file at: /mnt/archgen/users/hringbauer/brienzi/data/h5.imputed.23andme/v0.2.imputed.ch3.h5\n",
      "\n",
      "Running Chromosome 4...\n",
      "Print downsampling to 1240K...\n",
      "Running bash command: \n",
      "bcftools view -Oz -o /mnt/archgen/users/hringbauer/brienzi/data/vcf23andme.imputed/v0.2.imputed.ch4.vcf.gz -T /mnt/archgen/users/hringbauer/git/gedmatch_prep/data/23andme/bcftools_ch4.csv -M2 -v snps /mnt/archgen/users/hringbauer/brienzi/data/splitbam/Brienzi.trio.lib.vcf.gz\n",
      "Finished BCF tools filtering to target markers.\n",
      "Converting to HDF5...\n",
      "Finished conversion to hdf5!\n",
      "Merging in LD Map..\n",
      "Calculating in sample allele frequencies and saving at hdf5 column AF_SAMPLE\n",
      "Adding Allele Frequencies to HDF5...\n",
      "Loaded 32746 variants.\n",
      "Finshed merged in allele frequencies into /mnt/archgen/users/hringbauer/brienzi/data/h5.imputed.23andme/v0.2.imputed.ch4.h5\n",
      "Transformation complete! Find new hdf5 file at: /mnt/archgen/users/hringbauer/brienzi/data/h5.imputed.23andme/v0.2.imputed.ch4.h5\n",
      "\n",
      "Running Chromosome 5...\n",
      "Print downsampling to 1240K...\n",
      "Running bash command: \n",
      "bcftools view -Oz -o /mnt/archgen/users/hringbauer/brienzi/data/vcf23andme.imputed/v0.2.imputed.ch5.vcf.gz -T /mnt/archgen/users/hringbauer/git/gedmatch_prep/data/23andme/bcftools_ch5.csv -M2 -v snps /mnt/archgen/users/hringbauer/brienzi/data/splitbam/Brienzi.trio.lib.vcf.gz\n",
      "Finished BCF tools filtering to target markers.\n",
      "Converting to HDF5...\n",
      "Finished conversion to hdf5!\n",
      "Merging in LD Map..\n",
      "Calculating in sample allele frequencies and saving at hdf5 column AF_SAMPLE\n",
      "Adding Allele Frequencies to HDF5...\n",
      "Loaded 32425 variants.\n",
      "Finshed merged in allele frequencies into /mnt/archgen/users/hringbauer/brienzi/data/h5.imputed.23andme/v0.2.imputed.ch5.h5\n",
      "Transformation complete! Find new hdf5 file at: /mnt/archgen/users/hringbauer/brienzi/data/h5.imputed.23andme/v0.2.imputed.ch5.h5\n",
      "\n",
      "Running Chromosome 6...\n",
      "Print downsampling to 1240K...\n",
      "Running bash command: \n",
      "bcftools view -Oz -o /mnt/archgen/users/hringbauer/brienzi/data/vcf23andme.imputed/v0.2.imputed.ch6.vcf.gz -T /mnt/archgen/users/hringbauer/git/gedmatch_prep/data/23andme/bcftools_ch6.csv -M2 -v snps /mnt/archgen/users/hringbauer/brienzi/data/splitbam/Brienzi.trio.lib.vcf.gz\n",
      "Finished BCF tools filtering to target markers.\n",
      "Converting to HDF5...\n",
      "Finished conversion to hdf5!\n",
      "Merging in LD Map..\n",
      "Calculating in sample allele frequencies and saving at hdf5 column AF_SAMPLE\n",
      "Adding Allele Frequencies to HDF5...\n",
      "Loaded 37680 variants.\n",
      "Finshed merged in allele frequencies into /mnt/archgen/users/hringbauer/brienzi/data/h5.imputed.23andme/v0.2.imputed.ch6.h5\n",
      "Transformation complete! Find new hdf5 file at: /mnt/archgen/users/hringbauer/brienzi/data/h5.imputed.23andme/v0.2.imputed.ch6.h5\n",
      "\n",
      "Running Chromosome 7...\n",
      "Print downsampling to 1240K...\n",
      "Running bash command: \n",
      "bcftools view -Oz -o /mnt/archgen/users/hringbauer/brienzi/data/vcf23andme.imputed/v0.2.imputed.ch7.vcf.gz -T /mnt/archgen/users/hringbauer/git/gedmatch_prep/data/23andme/bcftools_ch7.csv -M2 -v snps /mnt/archgen/users/hringbauer/brienzi/data/splitbam/Brienzi.trio.lib.vcf.gz\n",
      "Finished BCF tools filtering to target markers.\n",
      "Converting to HDF5...\n",
      "Finished conversion to hdf5!\n",
      "Merging in LD Map..\n",
      "Calculating in sample allele frequencies and saving at hdf5 column AF_SAMPLE\n",
      "Adding Allele Frequencies to HDF5...\n",
      "Loaded 29847 variants.\n",
      "Finshed merged in allele frequencies into /mnt/archgen/users/hringbauer/brienzi/data/h5.imputed.23andme/v0.2.imputed.ch7.h5\n",
      "Transformation complete! Find new hdf5 file at: /mnt/archgen/users/hringbauer/brienzi/data/h5.imputed.23andme/v0.2.imputed.ch7.h5\n",
      "\n",
      "Running Chromosome 8...\n",
      "Print downsampling to 1240K...\n",
      "Running bash command: \n",
      "bcftools view -Oz -o /mnt/archgen/users/hringbauer/brienzi/data/vcf23andme.imputed/v0.2.imputed.ch8.vcf.gz -T /mnt/archgen/users/hringbauer/git/gedmatch_prep/data/23andme/bcftools_ch8.csv -M2 -v snps /mnt/archgen/users/hringbauer/brienzi/data/splitbam/Brienzi.trio.lib.vcf.gz\n",
      "Finished BCF tools filtering to target markers.\n",
      "Converting to HDF5...\n",
      "Finished conversion to hdf5!\n",
      "Merging in LD Map..\n",
      "Calculating in sample allele frequencies and saving at hdf5 column AF_SAMPLE\n",
      "Adding Allele Frequencies to HDF5...\n",
      "Loaded 29356 variants.\n",
      "Finshed merged in allele frequencies into /mnt/archgen/users/hringbauer/brienzi/data/h5.imputed.23andme/v0.2.imputed.ch8.h5\n",
      "Transformation complete! Find new hdf5 file at: /mnt/archgen/users/hringbauer/brienzi/data/h5.imputed.23andme/v0.2.imputed.ch8.h5\n",
      "\n",
      "Running Chromosome 9...\n",
      "Print downsampling to 1240K...\n",
      "Running bash command: \n",
      "bcftools view -Oz -o /mnt/archgen/users/hringbauer/brienzi/data/vcf23andme.imputed/v0.2.imputed.ch9.vcf.gz -T /mnt/archgen/users/hringbauer/git/gedmatch_prep/data/23andme/bcftools_ch9.csv -M2 -v snps /mnt/archgen/users/hringbauer/brienzi/data/splitbam/Brienzi.trio.lib.vcf.gz\n",
      "Finished BCF tools filtering to target markers.\n",
      "Converting to HDF5...\n",
      "Finished conversion to hdf5!\n",
      "Merging in LD Map..\n",
      "Calculating in sample allele frequencies and saving at hdf5 column AF_SAMPLE\n",
      "Adding Allele Frequencies to HDF5...\n",
      "Loaded 25554 variants.\n",
      "Finshed merged in allele frequencies into /mnt/archgen/users/hringbauer/brienzi/data/h5.imputed.23andme/v0.2.imputed.ch9.h5\n",
      "Transformation complete! Find new hdf5 file at: /mnt/archgen/users/hringbauer/brienzi/data/h5.imputed.23andme/v0.2.imputed.ch9.h5\n",
      "\n",
      "Running Chromosome 10...\n",
      "Print downsampling to 1240K...\n",
      "Running bash command: \n",
      "bcftools view -Oz -o /mnt/archgen/users/hringbauer/brienzi/data/vcf23andme.imputed/v0.2.imputed.ch10.vcf.gz -T /mnt/archgen/users/hringbauer/git/gedmatch_prep/data/23andme/bcftools_ch10.csv -M2 -v snps /mnt/archgen/users/hringbauer/brienzi/data/splitbam/Brienzi.trio.lib.vcf.gz\n",
      "Finished BCF tools filtering to target markers.\n",
      "Converting to HDF5...\n",
      "Finished conversion to hdf5!\n",
      "Merging in LD Map..\n",
      "Calculating in sample allele frequencies and saving at hdf5 column AF_SAMPLE\n",
      "Adding Allele Frequencies to HDF5...\n",
      "Loaded 28230 variants.\n",
      "Finshed merged in allele frequencies into /mnt/archgen/users/hringbauer/brienzi/data/h5.imputed.23andme/v0.2.imputed.ch10.h5\n",
      "Transformation complete! Find new hdf5 file at: /mnt/archgen/users/hringbauer/brienzi/data/h5.imputed.23andme/v0.2.imputed.ch10.h5\n",
      "\n",
      "Running Chromosome 11...\n",
      "Print downsampling to 1240K...\n",
      "Running bash command: \n",
      "bcftools view -Oz -o /mnt/archgen/users/hringbauer/brienzi/data/vcf23andme.imputed/v0.2.imputed.ch11.vcf.gz -T /mnt/archgen/users/hringbauer/git/gedmatch_prep/data/23andme/bcftools_ch11.csv -M2 -v snps /mnt/archgen/users/hringbauer/brienzi/data/splitbam/Brienzi.trio.lib.vcf.gz\n",
      "Finished BCF tools filtering to target markers.\n",
      "Converting to HDF5...\n",
      "Finished conversion to hdf5!\n",
      "Merging in LD Map..\n",
      "Calculating in sample allele frequencies and saving at hdf5 column AF_SAMPLE\n",
      "Adding Allele Frequencies to HDF5...\n",
      "Loaded 26360 variants.\n",
      "Finshed merged in allele frequencies into /mnt/archgen/users/hringbauer/brienzi/data/h5.imputed.23andme/v0.2.imputed.ch11.h5\n",
      "Transformation complete! Find new hdf5 file at: /mnt/archgen/users/hringbauer/brienzi/data/h5.imputed.23andme/v0.2.imputed.ch11.h5\n",
      "\n",
      "Running Chromosome 12...\n",
      "Print downsampling to 1240K...\n",
      "Running bash command: \n",
      "bcftools view -Oz -o /mnt/archgen/users/hringbauer/brienzi/data/vcf23andme.imputed/v0.2.imputed.ch12.vcf.gz -T /mnt/archgen/users/hringbauer/git/gedmatch_prep/data/23andme/bcftools_ch12.csv -M2 -v snps /mnt/archgen/users/hringbauer/brienzi/data/splitbam/Brienzi.trio.lib.vcf.gz\n",
      "Finished BCF tools filtering to target markers.\n",
      "Converting to HDF5...\n",
      "Finished conversion to hdf5!\n",
      "Merging in LD Map..\n",
      "Calculating in sample allele frequencies and saving at hdf5 column AF_SAMPLE\n",
      "Adding Allele Frequencies to HDF5...\n",
      "Loaded 26397 variants.\n",
      "Finshed merged in allele frequencies into /mnt/archgen/users/hringbauer/brienzi/data/h5.imputed.23andme/v0.2.imputed.ch12.h5\n",
      "Transformation complete! Find new hdf5 file at: /mnt/archgen/users/hringbauer/brienzi/data/h5.imputed.23andme/v0.2.imputed.ch12.h5\n",
      "\n",
      "Running Chromosome 13...\n",
      "Print downsampling to 1240K...\n",
      "Running bash command: \n",
      "bcftools view -Oz -o /mnt/archgen/users/hringbauer/brienzi/data/vcf23andme.imputed/v0.2.imputed.ch13.vcf.gz -T /mnt/archgen/users/hringbauer/git/gedmatch_prep/data/23andme/bcftools_ch13.csv -M2 -v snps /mnt/archgen/users/hringbauer/brienzi/data/splitbam/Brienzi.trio.lib.vcf.gz\n",
      "Finished BCF tools filtering to target markers.\n",
      "Converting to HDF5...\n",
      "Finished conversion to hdf5!\n",
      "Merging in LD Map..\n",
      "Calculating in sample allele frequencies and saving at hdf5 column AF_SAMPLE\n",
      "Adding Allele Frequencies to HDF5...\n",
      "Loaded 20176 variants.\n",
      "Finshed merged in allele frequencies into /mnt/archgen/users/hringbauer/brienzi/data/h5.imputed.23andme/v0.2.imputed.ch13.h5\n",
      "Transformation complete! Find new hdf5 file at: /mnt/archgen/users/hringbauer/brienzi/data/h5.imputed.23andme/v0.2.imputed.ch13.h5\n",
      "\n",
      "Running Chromosome 14...\n",
      "Print downsampling to 1240K...\n",
      "Running bash command: \n",
      "bcftools view -Oz -o /mnt/archgen/users/hringbauer/brienzi/data/vcf23andme.imputed/v0.2.imputed.ch14.vcf.gz -T /mnt/archgen/users/hringbauer/git/gedmatch_prep/data/23andme/bcftools_ch14.csv -M2 -v snps /mnt/archgen/users/hringbauer/brienzi/data/splitbam/Brienzi.trio.lib.vcf.gz\n",
      "Finished BCF tools filtering to target markers.\n",
      "Converting to HDF5...\n",
      "Finished conversion to hdf5!\n",
      "Merging in LD Map..\n",
      "Calculating in sample allele frequencies and saving at hdf5 column AF_SAMPLE\n",
      "Adding Allele Frequencies to HDF5...\n",
      "Loaded 17659 variants.\n",
      "Finshed merged in allele frequencies into /mnt/archgen/users/hringbauer/brienzi/data/h5.imputed.23andme/v0.2.imputed.ch14.h5\n",
      "Transformation complete! Find new hdf5 file at: /mnt/archgen/users/hringbauer/brienzi/data/h5.imputed.23andme/v0.2.imputed.ch14.h5\n",
      "\n",
      "Running Chromosome 15...\n",
      "Print downsampling to 1240K...\n",
      "Running bash command: \n",
      "bcftools view -Oz -o /mnt/archgen/users/hringbauer/brienzi/data/vcf23andme.imputed/v0.2.imputed.ch15.vcf.gz -T /mnt/archgen/users/hringbauer/git/gedmatch_prep/data/23andme/bcftools_ch15.csv -M2 -v snps /mnt/archgen/users/hringbauer/brienzi/data/splitbam/Brienzi.trio.lib.vcf.gz\n",
      "Finished BCF tools filtering to target markers.\n",
      "Converting to HDF5...\n",
      "Finished conversion to hdf5!\n",
      "Merging in LD Map..\n",
      "Calculating in sample allele frequencies and saving at hdf5 column AF_SAMPLE\n",
      "Adding Allele Frequencies to HDF5...\n",
      "Loaded 16627 variants.\n",
      "Finshed merged in allele frequencies into /mnt/archgen/users/hringbauer/brienzi/data/h5.imputed.23andme/v0.2.imputed.ch15.h5\n",
      "Transformation complete! Find new hdf5 file at: /mnt/archgen/users/hringbauer/brienzi/data/h5.imputed.23andme/v0.2.imputed.ch15.h5\n",
      "\n",
      "Running Chromosome 16...\n",
      "Print downsampling to 1240K...\n",
      "Running bash command: \n",
      "bcftools view -Oz -o /mnt/archgen/users/hringbauer/brienzi/data/vcf23andme.imputed/v0.2.imputed.ch16.vcf.gz -T /mnt/archgen/users/hringbauer/git/gedmatch_prep/data/23andme/bcftools_ch16.csv -M2 -v snps /mnt/archgen/users/hringbauer/brienzi/data/splitbam/Brienzi.trio.lib.vcf.gz\n",
      "Finished BCF tools filtering to target markers.\n",
      "Converting to HDF5...\n",
      "Finished conversion to hdf5!\n",
      "Merging in LD Map..\n",
      "Calculating in sample allele frequencies and saving at hdf5 column AF_SAMPLE\n",
      "Adding Allele Frequencies to HDF5...\n",
      "Loaded 17256 variants.\n",
      "Finshed merged in allele frequencies into /mnt/archgen/users/hringbauer/brienzi/data/h5.imputed.23andme/v0.2.imputed.ch16.h5\n",
      "Transformation complete! Find new hdf5 file at: /mnt/archgen/users/hringbauer/brienzi/data/h5.imputed.23andme/v0.2.imputed.ch16.h5\n",
      "\n",
      "Running Chromosome 17...\n",
      "Print downsampling to 1240K...\n",
      "Running bash command: \n",
      "bcftools view -Oz -o /mnt/archgen/users/hringbauer/brienzi/data/vcf23andme.imputed/v0.2.imputed.ch17.vcf.gz -T /mnt/archgen/users/hringbauer/git/gedmatch_prep/data/23andme/bcftools_ch17.csv -M2 -v snps /mnt/archgen/users/hringbauer/brienzi/data/splitbam/Brienzi.trio.lib.vcf.gz\n",
      "Finished BCF tools filtering to target markers.\n",
      "Converting to HDF5...\n",
      "Finished conversion to hdf5!\n",
      "Merging in LD Map..\n",
      "Calculating in sample allele frequencies and saving at hdf5 column AF_SAMPLE\n",
      "Adding Allele Frequencies to HDF5...\n",
      "Loaded 15273 variants.\n",
      "Finshed merged in allele frequencies into /mnt/archgen/users/hringbauer/brienzi/data/h5.imputed.23andme/v0.2.imputed.ch17.h5\n",
      "Transformation complete! Find new hdf5 file at: /mnt/archgen/users/hringbauer/brienzi/data/h5.imputed.23andme/v0.2.imputed.ch17.h5\n",
      "\n",
      "Running Chromosome 18...\n",
      "Print downsampling to 1240K...\n",
      "Running bash command: \n",
      "bcftools view -Oz -o /mnt/archgen/users/hringbauer/brienzi/data/vcf23andme.imputed/v0.2.imputed.ch18.vcf.gz -T /mnt/archgen/users/hringbauer/git/gedmatch_prep/data/23andme/bcftools_ch18.csv -M2 -v snps /mnt/archgen/users/hringbauer/brienzi/data/splitbam/Brienzi.trio.lib.vcf.gz\n",
      "Finished BCF tools filtering to target markers.\n",
      "Converting to HDF5...\n",
      "Finished conversion to hdf5!\n",
      "Merging in LD Map..\n",
      "Calculating in sample allele frequencies and saving at hdf5 column AF_SAMPLE\n",
      "Adding Allele Frequencies to HDF5...\n",
      "Loaded 16063 variants.\n",
      "Finshed merged in allele frequencies into /mnt/archgen/users/hringbauer/brienzi/data/h5.imputed.23andme/v0.2.imputed.ch18.h5\n",
      "Transformation complete! Find new hdf5 file at: /mnt/archgen/users/hringbauer/brienzi/data/h5.imputed.23andme/v0.2.imputed.ch18.h5\n",
      "\n",
      "Running Chromosome 19...\n",
      "Print downsampling to 1240K...\n",
      "Running bash command: \n",
      "bcftools view -Oz -o /mnt/archgen/users/hringbauer/brienzi/data/vcf23andme.imputed/v0.2.imputed.ch19.vcf.gz -T /mnt/archgen/users/hringbauer/git/gedmatch_prep/data/23andme/bcftools_ch19.csv -M2 -v snps /mnt/archgen/users/hringbauer/brienzi/data/splitbam/Brienzi.trio.lib.vcf.gz\n",
      "Finished BCF tools filtering to target markers.\n",
      "Converting to HDF5...\n",
      "Finished conversion to hdf5!\n",
      "Merging in LD Map..\n",
      "Calculating in sample allele frequencies and saving at hdf5 column AF_SAMPLE\n",
      "Adding Allele Frequencies to HDF5...\n",
      "Loaded 10604 variants.\n",
      "Finshed merged in allele frequencies into /mnt/archgen/users/hringbauer/brienzi/data/h5.imputed.23andme/v0.2.imputed.ch19.h5\n",
      "Transformation complete! Find new hdf5 file at: /mnt/archgen/users/hringbauer/brienzi/data/h5.imputed.23andme/v0.2.imputed.ch19.h5\n",
      "\n",
      "Running Chromosome 20...\n",
      "Print downsampling to 1240K...\n",
      "Running bash command: \n",
      "bcftools view -Oz -o /mnt/archgen/users/hringbauer/brienzi/data/vcf23andme.imputed/v0.2.imputed.ch20.vcf.gz -T /mnt/archgen/users/hringbauer/git/gedmatch_prep/data/23andme/bcftools_ch20.csv -M2 -v snps /mnt/archgen/users/hringbauer/brienzi/data/splitbam/Brienzi.trio.lib.vcf.gz\n",
      "Finished BCF tools filtering to target markers.\n",
      "Converting to HDF5...\n",
      "Finished conversion to hdf5!\n",
      "Merging in LD Map..\n",
      "Calculating in sample allele frequencies and saving at hdf5 column AF_SAMPLE\n",
      "Adding Allele Frequencies to HDF5...\n",
      "Loaded 13888 variants.\n",
      "Finshed merged in allele frequencies into /mnt/archgen/users/hringbauer/brienzi/data/h5.imputed.23andme/v0.2.imputed.ch20.h5\n",
      "Transformation complete! Find new hdf5 file at: /mnt/archgen/users/hringbauer/brienzi/data/h5.imputed.23andme/v0.2.imputed.ch20.h5\n",
      "\n",
      "Running Chromosome 21...\n",
      "Print downsampling to 1240K...\n",
      "Running bash command: \n",
      "bcftools view -Oz -o /mnt/archgen/users/hringbauer/brienzi/data/vcf23andme.imputed/v0.2.imputed.ch21.vcf.gz -T /mnt/archgen/users/hringbauer/git/gedmatch_prep/data/23andme/bcftools_ch21.csv -M2 -v snps /mnt/archgen/users/hringbauer/brienzi/data/splitbam/Brienzi.trio.lib.vcf.gz\n",
      "Finished BCF tools filtering to target markers.\n",
      "Converting to HDF5...\n",
      "Finished conversion to hdf5!\n",
      "Merging in LD Map..\n",
      "Calculating in sample allele frequencies and saving at hdf5 column AF_SAMPLE\n",
      "Adding Allele Frequencies to HDF5...\n",
      "Loaded 8035 variants.\n",
      "Finshed merged in allele frequencies into /mnt/archgen/users/hringbauer/brienzi/data/h5.imputed.23andme/v0.2.imputed.ch21.h5\n",
      "Transformation complete! Find new hdf5 file at: /mnt/archgen/users/hringbauer/brienzi/data/h5.imputed.23andme/v0.2.imputed.ch21.h5\n",
      "\n",
      "Running Chromosome 22...\n",
      "Print downsampling to 1240K...\n",
      "Running bash command: \n",
      "bcftools view -Oz -o /mnt/archgen/users/hringbauer/brienzi/data/vcf23andme.imputed/v0.2.imputed.ch22.vcf.gz -T /mnt/archgen/users/hringbauer/git/gedmatch_prep/data/23andme/bcftools_ch22.csv -M2 -v snps /mnt/archgen/users/hringbauer/brienzi/data/splitbam/Brienzi.trio.lib.vcf.gz\n",
      "Finished BCF tools filtering to target markers.\n",
      "Converting to HDF5...\n",
      "Finished conversion to hdf5!\n",
      "Merging in LD Map..\n",
      "Calculating in sample allele frequencies and saving at hdf5 column AF_SAMPLE\n",
      "Adding Allele Frequencies to HDF5...\n",
      "Loaded 8228 variants.\n",
      "Finshed merged in allele frequencies into /mnt/archgen/users/hringbauer/brienzi/data/h5.imputed.23andme/v0.2.imputed.ch22.h5\n",
      "Transformation complete! Find new hdf5 file at: /mnt/archgen/users/hringbauer/brienzi/data/h5.imputed.23andme/v0.2.imputed.ch22.h5\n",
      "\n",
      "CPU times: user 5.16 s, sys: 190 ms, total: 5.35 s\n",
      "Wall time: 47min 22s\n"
     ]
    }
   ],
   "source": [
    "%%time\n",
    "\n",
    "for ch in range(1,23):\n",
    "    print(f\"Running Chromosome {ch}...\")\n",
    "    v = 0.2\n",
    "\n",
    "    vcf_to_1240K_hdf(in_vcf_path = \"/mnt/archgen/users/hringbauer/brienzi/data/splitbam/Brienzi.trio.lib.vcf.gz\",\n",
    "             path_vcf = f\"/mnt/archgen/users/hringbauer/brienzi/data/vcf23andme.imputed/v{v}.imputed.ch{ch}.vcf.gz\",\n",
    "             path_h5 = f\"/mnt/archgen/users/hringbauer/brienzi/data/h5.imputed.23andme/v{v}.imputed.ch{ch}.h5\",\n",
    "             marker_path = f\"/mnt/archgen/users/hringbauer/git/gedmatch_prep/data/23andme/bcftools_ch{ch}.csv\",\n",
    "             map_path = \"\", \n",
    "             af_path = \"\",\n",
    "             col_sample_af = \"AF_SAMPLE\",\n",
    "             ch=ch, \n",
    "             chunk_length=10000)"
   ]
  },
  {
   "cell_type": "markdown",
   "metadata": {},
   "source": [
    "# 2) Filter to 23andme data\n",
    "SNP files is prepered over in ./pre_snpsets.ipynb"
   ]
  },
  {
   "cell_type": "code",
   "execution_count": 109,
   "metadata": {},
   "outputs": [
    {
     "name": "stdout",
     "output_type": "stream",
     "text": [
      "Subset to 38517 SNPs\n"
     ]
    }
   ],
   "source": [
    "ch = 3\n",
    "\n",
    "path_23tsv =\"/mnt/archgen/users/hringbauer/git/gedmatch_prep/data/23andme/snps.tsv\"\n",
    "df = pd.read_csv(path_23tsv, sep=\"\\t\", low_memory=False)\n",
    "\n",
    "df_ch = df[df[\"chr\"]==str(ch)] # 23andme SNP file for Chr\n",
    "print(f\"Subset to {len(df_ch)} SNPs\")"
   ]
  },
  {
   "cell_type": "code",
   "execution_count": 113,
   "metadata": {},
   "outputs": [
    {
     "data": {
      "text/html": [
       "<div>\n",
       "<style scoped>\n",
       "    .dataframe tbody tr th:only-of-type {\n",
       "        vertical-align: middle;\n",
       "    }\n",
       "\n",
       "    .dataframe tbody tr th {\n",
       "        vertical-align: top;\n",
       "    }\n",
       "\n",
       "    .dataframe thead th {\n",
       "        text-align: right;\n",
       "    }\n",
       "</style>\n",
       "<table border=\"1\" class=\"dataframe\">\n",
       "  <thead>\n",
       "    <tr style=\"text-align: right;\">\n",
       "      <th></th>\n",
       "      <th>rsid</th>\n",
       "      <th>chr</th>\n",
       "      <th>pos</th>\n",
       "      <th>gt</th>\n",
       "    </tr>\n",
       "  </thead>\n",
       "  <tbody>\n",
       "    <tr>\n",
       "      <th>92790</th>\n",
       "      <td>rs13072188</td>\n",
       "      <td>3</td>\n",
       "      <td>63411</td>\n",
       "      <td>AC</td>\n",
       "    </tr>\n",
       "    <tr>\n",
       "      <th>92791</th>\n",
       "      <td>rs9681213</td>\n",
       "      <td>3</td>\n",
       "      <td>66894</td>\n",
       "      <td>AG</td>\n",
       "    </tr>\n",
       "    <tr>\n",
       "      <th>92792</th>\n",
       "      <td>rs115597985</td>\n",
       "      <td>3</td>\n",
       "      <td>70761</td>\n",
       "      <td>GT</td>\n",
       "    </tr>\n",
       "    <tr>\n",
       "      <th>92793</th>\n",
       "      <td>rs11128546</td>\n",
       "      <td>3</td>\n",
       "      <td>71283</td>\n",
       "      <td>CT</td>\n",
       "    </tr>\n",
       "    <tr>\n",
       "      <th>92794</th>\n",
       "      <td>i5005005</td>\n",
       "      <td>3</td>\n",
       "      <td>79467</td>\n",
       "      <td>AA</td>\n",
       "    </tr>\n",
       "    <tr>\n",
       "      <th>...</th>\n",
       "      <td>...</td>\n",
       "      <td>...</td>\n",
       "      <td>...</td>\n",
       "      <td>...</td>\n",
       "    </tr>\n",
       "    <tr>\n",
       "      <th>131302</th>\n",
       "      <td>rs6763122</td>\n",
       "      <td>3</td>\n",
       "      <td>197794284</td>\n",
       "      <td>CC</td>\n",
       "    </tr>\n",
       "    <tr>\n",
       "      <th>131303</th>\n",
       "      <td>rs9879842</td>\n",
       "      <td>3</td>\n",
       "      <td>197813975</td>\n",
       "      <td>GT</td>\n",
       "    </tr>\n",
       "    <tr>\n",
       "      <th>131304</th>\n",
       "      <td>rs12630742</td>\n",
       "      <td>3</td>\n",
       "      <td>197817764</td>\n",
       "      <td>AA</td>\n",
       "    </tr>\n",
       "    <tr>\n",
       "      <th>131305</th>\n",
       "      <td>rs61791886</td>\n",
       "      <td>3</td>\n",
       "      <td>197821958</td>\n",
       "      <td>GG</td>\n",
       "    </tr>\n",
       "    <tr>\n",
       "      <th>131306</th>\n",
       "      <td>rs12489012</td>\n",
       "      <td>3</td>\n",
       "      <td>197833758</td>\n",
       "      <td>CT</td>\n",
       "    </tr>\n",
       "  </tbody>\n",
       "</table>\n",
       "<p>38517 rows × 4 columns</p>\n",
       "</div>"
      ],
      "text/plain": [
       "               rsid chr        pos  gt\n",
       "92790    rs13072188   3      63411  AC\n",
       "92791     rs9681213   3      66894  AG\n",
       "92792   rs115597985   3      70761  GT\n",
       "92793    rs11128546   3      71283  CT\n",
       "92794      i5005005   3      79467  AA\n",
       "...             ...  ..        ...  ..\n",
       "131302    rs6763122   3  197794284  CC\n",
       "131303    rs9879842   3  197813975  GT\n",
       "131304   rs12630742   3  197817764  AA\n",
       "131305   rs61791886   3  197821958  GG\n",
       "131306   rs12489012   3  197833758  CT\n",
       "\n",
       "[38517 rows x 4 columns]"
      ]
     },
     "execution_count": 113,
     "metadata": {},
     "output_type": "execute_result"
    }
   ],
   "source": [
    "df_ch.sort_values(by=\"pos\")"
   ]
  },
  {
   "cell_type": "code",
   "execution_count": 87,
   "metadata": {},
   "outputs": [
    {
     "name": "stdout",
     "output_type": "stream",
     "text": [
      "['AF', 'AF_SAMPLE', 'ALT', 'BUF', 'CHROM', 'FILTER_PASS', 'ID', 'INFO', 'POS', 'QUAL', 'RAF', 'REF', 'altlen', 'is_snp', 'numalt']\n",
      "(78397748, 3, 2)\n"
     ]
    }
   ],
   "source": [
    "%%time\n",
    "\n",
    "h5_path = f\"/mnt/archgen/users/hringbauer/brienzi/data/h5.imputed.1000G/v0.2.imputed.ch{ch}.h5\"\n",
    "\n",
    "with h5py.File(h5_path, \"r\") as f: # Load for Sanity Check. See below!\n",
    "    print(list(f[\"variants\"]))\n",
    "    print(np.shape(f[\"calldata/GT\"]))\n",
    "    pos = f[\"variants/POS\"][:]\n",
    "    ref = f[\"variants/REF\"][:]\n",
    "    alt = f[\"variants/ALT\"][:]\n",
    "    #af_all = f[\"variants/RAF\"][:]\n",
    "    #gp = f[\"calldata/GP\"][:, :, :]\n",
    "    #gt = f[\"calldata/GT\"][:, :, :]\n",
    "    #m = f[\"variants/MAP\"][:]\n",
    "    samples = f[\"samples\"][:]\n",
    "    #af=f[\"variants/AF\"][:]"
   ]
  },
  {
   "cell_type": "code",
   "execution_count": 93,
   "metadata": {},
   "outputs": [],
   "source": [
    "dft = pd.DataFrame({\"pos\":pos, \"ref\":ref.astype(\"str\"), \"alt\":alt[:,0].astype(\"str\")}) ### Prepare 1000G File"
   ]
  },
  {
   "cell_type": "code",
   "execution_count": 95,
   "metadata": {},
   "outputs": [
    {
     "name": "stdout",
     "output_type": "stream",
     "text": [
      "Subset to 38517 SNPs\n"
     ]
    }
   ],
   "source": []
  },
  {
   "cell_type": "code",
   "execution_count": 97,
   "metadata": {},
   "outputs": [],
   "source": [
    "dfm = pd.merge(dft, df_ch, on=\"pos\") ### Merge the files"
   ]
  },
  {
   "cell_type": "code",
   "execution_count": 100,
   "metadata": {},
   "outputs": [
    {
     "name": "stdout",
     "output_type": "stream",
     "text": [
      "Merged to 50367/38517 SNPs\n"
     ]
    }
   ],
   "source": [
    "print(f\"Merged to {len(dfm)}/{len(df_ch)} SNPs\")"
   ]
  },
  {
   "cell_type": "code",
   "execution_count": null,
   "metadata": {},
   "outputs": [],
   "source": []
  },
  {
   "cell_type": "code",
   "execution_count": 107,
   "metadata": {},
   "outputs": [
    {
     "data": {
      "text/html": [
       "<div>\n",
       "<style scoped>\n",
       "    .dataframe tbody tr th:only-of-type {\n",
       "        vertical-align: middle;\n",
       "    }\n",
       "\n",
       "    .dataframe tbody tr th {\n",
       "        vertical-align: top;\n",
       "    }\n",
       "\n",
       "    .dataframe thead th {\n",
       "        text-align: right;\n",
       "    }\n",
       "</style>\n",
       "<table border=\"1\" class=\"dataframe\">\n",
       "  <thead>\n",
       "    <tr style=\"text-align: right;\">\n",
       "      <th></th>\n",
       "      <th>pos</th>\n",
       "      <th>ref</th>\n",
       "      <th>alt</th>\n",
       "      <th>rsid</th>\n",
       "      <th>chr</th>\n",
       "      <th>gt</th>\n",
       "    </tr>\n",
       "  </thead>\n",
       "  <tbody>\n",
       "    <tr>\n",
       "      <th>4552</th>\n",
       "      <td>63411</td>\n",
       "      <td>A</td>\n",
       "      <td>C</td>\n",
       "      <td>rs13072188</td>\n",
       "      <td>3</td>\n",
       "      <td>AC</td>\n",
       "    </tr>\n",
       "    <tr>\n",
       "      <th>4553</th>\n",
       "      <td>66894</td>\n",
       "      <td>G</td>\n",
       "      <td>A</td>\n",
       "      <td>rs9681213</td>\n",
       "      <td>3</td>\n",
       "      <td>AG</td>\n",
       "    </tr>\n",
       "    <tr>\n",
       "      <th>4554</th>\n",
       "      <td>66894</td>\n",
       "      <td>T</td>\n",
       "      <td>C</td>\n",
       "      <td>rs9681213</td>\n",
       "      <td>3</td>\n",
       "      <td>AG</td>\n",
       "    </tr>\n",
       "    <tr>\n",
       "      <th>4555</th>\n",
       "      <td>70761</td>\n",
       "      <td>T</td>\n",
       "      <td>G</td>\n",
       "      <td>rs115597985</td>\n",
       "      <td>3</td>\n",
       "      <td>GT</td>\n",
       "    </tr>\n",
       "    <tr>\n",
       "      <th>4556</th>\n",
       "      <td>70761</td>\n",
       "      <td>C</td>\n",
       "      <td>T</td>\n",
       "      <td>rs115597985</td>\n",
       "      <td>3</td>\n",
       "      <td>GT</td>\n",
       "    </tr>\n",
       "    <tr>\n",
       "      <th>...</th>\n",
       "      <td>...</td>\n",
       "      <td>...</td>\n",
       "      <td>...</td>\n",
       "      <td>...</td>\n",
       "      <td>...</td>\n",
       "      <td>...</td>\n",
       "    </tr>\n",
       "    <tr>\n",
       "      <th>49488</th>\n",
       "      <td>197794284</td>\n",
       "      <td>C</td>\n",
       "      <td>T</td>\n",
       "      <td>rs6763122</td>\n",
       "      <td>3</td>\n",
       "      <td>CC</td>\n",
       "    </tr>\n",
       "    <tr>\n",
       "      <th>49489</th>\n",
       "      <td>197813975</td>\n",
       "      <td>T</td>\n",
       "      <td>G</td>\n",
       "      <td>rs9879842</td>\n",
       "      <td>3</td>\n",
       "      <td>GT</td>\n",
       "    </tr>\n",
       "    <tr>\n",
       "      <th>49490</th>\n",
       "      <td>197817764</td>\n",
       "      <td>A</td>\n",
       "      <td>C</td>\n",
       "      <td>rs12630742</td>\n",
       "      <td>3</td>\n",
       "      <td>AA</td>\n",
       "    </tr>\n",
       "    <tr>\n",
       "      <th>49491</th>\n",
       "      <td>197821958</td>\n",
       "      <td>G</td>\n",
       "      <td>A</td>\n",
       "      <td>rs61791886</td>\n",
       "      <td>3</td>\n",
       "      <td>GG</td>\n",
       "    </tr>\n",
       "    <tr>\n",
       "      <th>49492</th>\n",
       "      <td>197833758</td>\n",
       "      <td>C</td>\n",
       "      <td>T</td>\n",
       "      <td>rs12489012</td>\n",
       "      <td>3</td>\n",
       "      <td>CT</td>\n",
       "    </tr>\n",
       "  </tbody>\n",
       "</table>\n",
       "<p>50367 rows × 6 columns</p>\n",
       "</div>"
      ],
      "text/plain": [
       "             pos ref alt         rsid chr  gt\n",
       "4552       63411   A   C   rs13072188   3  AC\n",
       "4553       66894   G   A    rs9681213   3  AG\n",
       "4554       66894   T   C    rs9681213   3  AG\n",
       "4555       70761   T   G  rs115597985   3  GT\n",
       "4556       70761   C   T  rs115597985   3  GT\n",
       "...          ...  ..  ..          ...  ..  ..\n",
       "49488  197794284   C   T    rs6763122   3  CC\n",
       "49489  197813975   T   G    rs9879842   3  GT\n",
       "49490  197817764   A   C   rs12630742   3  AA\n",
       "49491  197821958   G   A   rs61791886   3  GG\n",
       "49492  197833758   C   T   rs12489012   3  CT\n",
       "\n",
       "[50367 rows x 6 columns]"
      ]
     },
     "execution_count": 107,
     "metadata": {},
     "output_type": "execute_result"
    }
   ],
   "source": [
    "dfm.sort_values(by=\"pos\")"
   ]
  },
  {
   "cell_type": "code",
   "execution_count": 108,
   "metadata": {},
   "outputs": [
    {
     "data": {
      "text/plain": [
       "38517"
      ]
     },
     "execution_count": 108,
     "metadata": {},
     "output_type": "execute_result"
    }
   ],
   "source": [
    "len(df_ch)"
   ]
  },
  {
   "cell_type": "markdown",
   "metadata": {},
   "source": [
    "# Area 51\n",
    "Explore the hdf5 file"
   ]
  },
  {
   "cell_type": "code",
   "execution_count": 58,
   "metadata": {},
   "outputs": [
    {
     "name": "stdout",
     "output_type": "stream",
     "text": [
      "['AF', 'AF_ALL', 'AF_SAMPLE', 'ALT', 'BUF', 'CHROM', 'FILTER_PASS', 'ID', 'INFO', 'MAP', 'POS', 'QUAL', 'RAF', 'REF', 'altlen', 'is_snp', 'numalt']\n",
      "(78523, 3, 2)\n"
     ]
    },
    {
     "data": {
      "text/plain": [
       "3"
      ]
     },
     "execution_count": 58,
     "metadata": {},
     "output_type": "execute_result"
    }
   ],
   "source": [
    "ch=3\n",
    "\n",
    "with h5py.File(f\"/mnt/archgen/users/hringbauer/brienzi/data/h5.imputed/v0.2.imputed.ch{ch}.h5\", \"r\") as f: # Load for Sanity Check. See below!\n",
    "    print(list(f[\"variants\"]))\n",
    "    print(np.shape(f[\"calldata/GT\"]))\n",
    "    #af = f[\"variants/AF\"][:]\n",
    "    af_all = f[\"variants/RAF\"][:]\n",
    "    gp = f[\"calldata/GP\"][:, :, :]\n",
    "    gt = f[\"calldata/GT\"][:, :, :]\n",
    "    #m = f[\"variants/MAP\"][:]\n",
    "    samples = f[\"samples\"][:]\n",
    "    #af=f[\"variants/AF\"][:]\n",
    "    \n",
    "len(samples)"
   ]
  },
  {
   "cell_type": "markdown",
   "metadata": {},
   "source": [
    "### maxGP Rate"
   ]
  },
  {
   "cell_type": "code",
   "execution_count": 63,
   "metadata": {},
   "outputs": [
    {
     "data": {
      "text/plain": [
       "array([0.91770564, 0.79441692, 0.87178279])"
      ]
     },
     "execution_count": 63,
     "metadata": {},
     "output_type": "execute_result"
    }
   ],
   "source": [
    "gp_max = np.max(gp, axis=2)\n",
    "np.mean(gp_max > 0.99, axis=0)"
   ]
  },
  {
   "cell_type": "markdown",
   "metadata": {},
   "source": [
    "### Heterozygote Rate"
   ]
  },
  {
   "cell_type": "code",
   "execution_count": 64,
   "metadata": {},
   "outputs": [
    {
     "data": {
      "text/plain": [
       "array([0.26880022, 0.26659705, 0.26821441])"
      ]
     },
     "execution_count": 64,
     "metadata": {},
     "output_type": "execute_result"
    }
   ],
   "source": [
    "gt2 = np.sum(gt, axis=2)\n",
    "np.mean(gt2==1, axis=0)"
   ]
  },
  {
   "cell_type": "code",
   "execution_count": 66,
   "metadata": {},
   "outputs": [
    {
     "data": {
      "image/png": "[encoded data removed]",
      "text/plain": [
       "<Figure size 432x288 with 1 Axes>"
      ]
     },
     "metadata": {
      "needs_background": "light"
     },
     "output_type": "display_data"
    }
   ],
   "source": [
    "a = af_all[:,0]\n",
    "\n",
    "plt.figure()\n",
    "ax = plt.gca()\n",
    "ax.scatter(a, gt2[:,0]+np.random.random(len(gt2)) - 0.5, alpha=0.01)\n",
    "\n",
    "ax.set_ylim([-1,3])\n",
    "ax.set_xlabel(\"Reference Allele Frequency\")\n",
    "plt.show()"
   ]
  },
  {
   "cell_type": "code",
   "execution_count": 73,
   "metadata": {},
   "outputs": [
    {
     "data": {
      "text/plain": [
       "0.9696522038128956"
      ]
     },
     "execution_count": 73,
     "metadata": {},
     "output_type": "execute_result"
    }
   ],
   "source": [
    "s = gt2[:,1] == gt2[:,2]\n",
    "np.mean(s)"
   ]
  },
  {
   "cell_type": "code",
   "execution_count": 69,
   "metadata": {},
   "outputs": [
    {
     "data": {
      "text/plain": [
       "array([[[0.128, 0.852, 0.02 ],\n",
       "        [0.115, 0.884, 0.   ],\n",
       "        [0.991, 0.009, 0.   ]],\n",
       "\n",
       "       [[0.   , 0.752, 0.248],\n",
       "        [0.   , 0.86 , 0.14 ],\n",
       "        [0.   , 0.04 , 0.96 ]],\n",
       "\n",
       "       [[0.999, 0.001, 0.   ],\n",
       "        [0.347, 0.653, 0.   ],\n",
       "        [1.   , 0.   , 0.   ]],\n",
       "\n",
       "       ...,\n",
       "\n",
       "       [[0.   , 1.   , 0.   ],\n",
       "        [0.003, 0.462, 0.536],\n",
       "        [0.006, 0.994, 0.   ]],\n",
       "\n",
       "       [[1.   , 0.   , 0.   ],\n",
       "        [0.305, 0.695, 0.   ],\n",
       "        [0.987, 0.013, 0.   ]],\n",
       "\n",
       "       [[0.965, 0.035, 0.   ],\n",
       "        [1.   , 0.   , 0.   ],\n",
       "        [0.408, 0.592, 0.   ]]], dtype=float32)"
      ]
     },
     "execution_count": 69,
     "metadata": {},
     "output_type": "execute_result"
    }
   ],
   "source": [
    "gp[~s]"
   ]
  },
  {
   "cell_type": "code",
   "execution_count": 78,
   "metadata": {},
   "outputs": [
    {
     "name": "stdout",
     "output_type": "stream",
     "text": [
      "['AF', 'AF_SAMPLE', 'ALT', 'BUF', 'CHROM', 'FILTER_PASS', 'ID', 'INFO', 'POS', 'QUAL', 'RAF', 'REF', 'altlen', 'is_snp', 'numalt']\n",
      "(78397748, 3, 2)\n",
      "CPU times: user 10.9 s, sys: 3.08 s, total: 14 s\n",
      "Wall time: 36.1 s\n"
     ]
    },
    {
     "data": {
      "text/plain": [
       "3"
      ]
     },
     "execution_count": 78,
     "metadata": {},
     "output_type": "execute_result"
    }
   ],
   "source": [
    "%%time\n",
    "\n",
    "ch=22\n",
    "\n",
    "with h5py.File(f\"/mnt/archgen/users/hringbauer/brienzi/data/h5.imputed.1000G/v0.2.imputed.ch{ch}.h5\", \"r\") as f: # Load for Sanity Check. See below!\n",
    "    print(list(f[\"variants\"]))\n",
    "    print(np.shape(f[\"calldata/GT\"]))\n",
    "    #af = f[\"variants/AF\"][:]\n",
    "    af_all = f[\"variants/RAF\"][:]\n",
    "    gp = f[\"calldata/GP\"][:, :, :]\n",
    "    gt = f[\"calldata/GT\"][:, :, :]\n",
    "    #m = f[\"variants/MAP\"][:]\n",
    "    samples = f[\"samples\"][:]\n",
    "    #af=f[\"variants/AF\"][:]\n",
    "    \n",
    "len(samples)"
   ]
  },
  {
   "cell_type": "code",
   "execution_count": 80,
   "metadata": {},
   "outputs": [
    {
     "data": {
      "text/plain": [
       "(78397748, 3, 3)"
      ]
     },
     "execution_count": 80,
     "metadata": {},
     "output_type": "execute_result"
    }
   ],
   "source": [
    "np.shape(gp)"
   ]
  },
  {
   "cell_type": "code",
   "execution_count": null,
   "metadata": {},
   "outputs": [],
   "source": []
  }
 ],
 "metadata": {
  "kernelspec": {
   "display_name": "Python 3",
   "language": "python",
   "name": "python3"
  },
  "language_info": {
   "codemirror_mode": {
    "name": "ipython",
    "version": 3
   },
   "file_extension": ".py",
   "mimetype": "text/x-python",
   "name": "python",
   "nbconvert_exporter": "python",
   "pygments_lexer": "ipython3",
   "version": "3.8.10"
  }
 },
 "nbformat": 4,
 "nbformat_minor": 2
}
